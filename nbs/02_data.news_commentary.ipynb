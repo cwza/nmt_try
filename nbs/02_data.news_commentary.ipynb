{
 "cells": [
  {
   "cell_type": "code",
   "execution_count": null,
   "metadata": {},
   "outputs": [
    {
     "data": {
      "text/html": [
       "<p style=\"color: red;\">\n",
       "The default version of TensorFlow in Colab will soon switch to TensorFlow 2.x.<br>\n",
       "We recommend you <a href=\"https://www.tensorflow.org/guide/migrate\" target=\"_blank\">upgrade</a> now \n",
       "or ensure your notebook will continue to use TensorFlow 1.x via the <code>%tensorflow_version 1.x</code> magic:\n",
       "<a href=\"https://colab.research.google.com/notebooks/tensorflow_version.ipynb\" target=\"_blank\">more info</a>.</p>\n"
      ],
      "text/plain": [
       "<IPython.core.display.HTML object>"
      ]
     },
     "metadata": {},
     "output_type": "display_data"
    }
   ],
   "source": [
    "# export\n",
    "from fastai2.basics import *\n",
    "from transformers import AutoTokenizer\n",
    "\n",
    "from fastai2_utils.data.all import *\n",
    "from fastai_transformers_utils.all import *"
   ]
  },
  {
   "cell_type": "code",
   "execution_count": null,
   "metadata": {},
   "outputs": [],
   "source": [
    "# default_exp data.news_commentary"
   ]
  },
  {
   "cell_type": "code",
   "execution_count": null,
   "metadata": {},
   "outputs": [],
   "source": [
    "# all_skip"
   ]
  },
  {
   "cell_type": "code",
   "execution_count": null,
   "metadata": {},
   "outputs": [],
   "source": [
    "# ori_data_loc = './data/News_Commentary/news-commentary-v14.en-zh.tsv'\n",
    "# tok_data_loc = './data/News_Commentary/tok-news-commentary-v14.en-zh.csv'\n",
    "# enc_tokenizer = AutoTokenizer.from_pretrained('hfl/chinese-bert-wwm-ext')\n",
    "# dec_tokenizer = GPT2DecoderTokenizer.from_pretrained('distilgpt2')\n",
    "# enc_seq_len = 65\n",
    "# dec_seq_len = 100"
   ]
  },
  {
   "cell_type": "code",
   "execution_count": null,
   "metadata": {},
   "outputs": [],
   "source": [
    "ori_data_loc = './data/News_Commentary/news-commentary-v14.en-zh.tsv'\n",
    "tok_data_loc = './data/News_Commentary/tok-news-commentary-v14.en-zh.csv'\n",
    "enc_tokenizer = AutoTokenizer.from_pretrained('bert-base-cased')\n",
    "dec_tokenizer = AutoTokenizer.from_pretrained('hfl/chinese-bert-wwm-ext')\n",
    "enc_seq_len = 100\n",
    "dec_seq_len = 65"
   ]
  },
  {
   "cell_type": "markdown",
   "metadata": {},
   "source": [
    "# Data News_Commentary\n",
    "> English to Chinese pairs"
   ]
  },
  {
   "cell_type": "markdown",
   "metadata": {},
   "source": [
    "## tokenize_data"
   ]
  },
  {
   "cell_type": "code",
   "execution_count": null,
   "metadata": {},
   "outputs": [],
   "source": [
    "# # export\n",
    "# def _tokenize_data(ori_data_loc, enc_tokenizer, dec_tokenizer):\n",
    "#     df = pd.read_csv(ori_data_loc, header=None, names=['English', 'Chinese'], delimiter='\\t', error_bad_lines=False, warn_bad_lines=False)\n",
    "#     df.dropna(inplace=True)\n",
    "#     df.reset_index(drop=True, inplace=True)\n",
    "    \n",
    "#     tok_np = np.zeros((len(df), 2)).astype('object')\n",
    "#     for i, eng_str, chn_str in progress_bar(tuple(df.itertuples())):\n",
    "#         tok_ch = ' '.join(enc_tokenizer.tokenize(chn_str))\n",
    "#         tok_en = ' '.join(dec_tokenizer.tokenize(eng_str))\n",
    "#         tok_np[i, 0] = tok_en\n",
    "#         tok_np[i, 1] = tok_ch\n",
    "#     tok_df = pd.DataFrame(tok_np, columns=['English', 'Chinese'])\n",
    "\n",
    "#     return tok_df"
   ]
  },
  {
   "cell_type": "code",
   "execution_count": null,
   "metadata": {},
   "outputs": [],
   "source": [
    "# export\n",
    "def _tokenize_data(ori_data_loc, enc_tokenizer, dec_tokenizer):\n",
    "    df = pd.read_csv(ori_data_loc, header=None, names=['English', 'Chinese'], delimiter='\\t', error_bad_lines=False, warn_bad_lines=False)\n",
    "    df.dropna(inplace=True)\n",
    "    df.reset_index(drop=True, inplace=True)\n",
    "    \n",
    "    tok_np = np.zeros((len(df), 2)).astype('object')\n",
    "    for i, eng_str, chn_str in progress_bar(tuple(df.itertuples())):\n",
    "        tok_en = ' '.join(enc_tokenizer.tokenize(eng_str))\n",
    "        tok_ch = ' '.join(dec_tokenizer.tokenize(chn_str))\n",
    "        tok_np[i, 0] = tok_en\n",
    "        tok_np[i, 1] = tok_ch\n",
    "    tok_df = pd.DataFrame(tok_np, columns=['English', 'Chinese'])\n",
    "\n",
    "    return tok_df"
   ]
  },
  {
   "cell_type": "code",
   "execution_count": null,
   "metadata": {},
   "outputs": [],
   "source": [
    "# export\n",
    "def _get_eda_tok_df(tok_df):\n",
    "    eng_len = tok_df.English.apply(lambda x: len(x.split()))\n",
    "    chn_len = tok_df.Chinese.apply(lambda x: len(x.split()))\n",
    "    eda_tok_df = pd.DataFrame(data={'eng_len': eng_len, 'chn_len': chn_len}, index=tok_df.index)\n",
    "    return eda_tok_df"
   ]
  },
  {
   "cell_type": "code",
   "execution_count": null,
   "metadata": {},
   "outputs": [],
   "source": [
    "# export\n",
    "def _clean_data(tok_df):\n",
    "    eda_tok_df = _get_eda_tok_df(tok_df)\n",
    "    tok_df.drop(index=tok_df[(eda_tok_df.chn_len > 200)].index, inplace=True)\n",
    "    tok_df.reset_index(drop=True, inplace=True)\n",
    "    return tok_df"
   ]
  },
  {
   "cell_type": "code",
   "execution_count": null,
   "metadata": {},
   "outputs": [],
   "source": [
    "# export\n",
    "def _small_data(tok_df):\n",
    "    eda_tok_df = _get_eda_tok_df(tok_df)\n",
    "    tok_df.drop(index=tok_df[(eda_tok_df.chn_len > 62)].index, inplace=True)\n",
    "    tok_df.reset_index(drop=True, inplace=True)\n",
    "    return tok_df"
   ]
  },
  {
   "cell_type": "code",
   "execution_count": null,
   "metadata": {},
   "outputs": [],
   "source": [
    "# export\n",
    "def _add_isvalid(tok_df):\n",
    "    is_valid = np.zeros(len(tok_df))\n",
    "    is_valid[:int(len(tok_df)*0.2)] = 1\n",
    "    np.random.RandomState(42).shuffle(is_valid)\n",
    "    is_valid = is_valid.astype(np.bool)\n",
    "    tok_df['is_valid'] = is_valid\n",
    "    return tok_df"
   ]
  },
  {
   "cell_type": "code",
   "execution_count": null,
   "metadata": {},
   "outputs": [
    {
     "data": {
      "text/html": [
       "\n",
       "    <div>\n",
       "        <style>\n",
       "            /* Turns off some styling */\n",
       "            progress {\n",
       "                /* gets rid of default border in Firefox and Opera. */\n",
       "                border: none;\n",
       "                /* Needs to be in here for Safari polyfill so background images work as expected. */\n",
       "                background-size: auto;\n",
       "            }\n",
       "            .progress-bar-interrupted, .progress-bar-interrupted::-webkit-progress-bar {\n",
       "                background: #F44336;\n",
       "            }\n",
       "        </style>\n",
       "      <progress value='298106' class='' max='298106', style='width:300px; height:20px; vertical-align: middle;'></progress>\n",
       "      100.00% [298106/298106 03:00<00:00]\n",
       "    </div>\n",
       "    "
      ],
      "text/plain": [
       "<IPython.core.display.HTML object>"
      ]
     },
     "metadata": {},
     "output_type": "display_data"
    },
    {
     "data": {
      "text/html": [
       "<div>\n",
       "<style scoped>\n",
       "    .dataframe tbody tr th:only-of-type {\n",
       "        vertical-align: middle;\n",
       "    }\n",
       "\n",
       "    .dataframe tbody tr th {\n",
       "        vertical-align: top;\n",
       "    }\n",
       "\n",
       "    .dataframe thead th {\n",
       "        text-align: right;\n",
       "    }\n",
       "</style>\n",
       "<table border=\"1\" class=\"dataframe\">\n",
       "  <thead>\n",
       "    <tr style=\"text-align: right;\">\n",
       "      <th></th>\n",
       "      <th>English</th>\n",
       "      <th>Chinese</th>\n",
       "      <th>is_valid</th>\n",
       "    </tr>\n",
       "  </thead>\n",
       "  <tbody>\n",
       "    <tr>\n",
       "      <th>0</th>\n",
       "      <td>1929 or 1989 ?</td>\n",
       "      <td>1929 年 还 是 1989 年 ?</td>\n",
       "      <td>True</td>\n",
       "    </tr>\n",
       "    <tr>\n",
       "      <th>1</th>\n",
       "      <td>PA ##RI ##S – As the economic crisis deep ##ens and widen ##s , the world has been searching for historical analog ##ies to help us understand what has been happening .</td>\n",
       "      <td>巴 黎 - 随 着 经 济 危 机 不 断 加 深 和 蔓 延 ， 整 个 世 界 一 直 在 寻 找 历 史 上 的 类 似 事 件 希 望 有 助 于 我 们 了 解 目 前 正 在 发 生 的 情 况 。</td>\n",
       "      <td>False</td>\n",
       "    </tr>\n",
       "    <tr>\n",
       "      <th>2</th>\n",
       "      <td>At the start of the crisis , many people like ##ned it to 1982 or 1973 , which was reassuring , because both dates refer to classical c ##yclic ##al down ##turn ##s .</td>\n",
       "      <td>一 开 始 ， 很 多 人 把 这 次 危 机 比 作 1982 年 或 1973 年 所 发 生 的 情 况 ， 这 样 得 类 比 是 令 人 宽 心 的 ， 因 为 这 两 段 时 期 意 味 着 典 型 的 周 期 性 衰 退 。</td>\n",
       "      <td>False</td>\n",
       "    </tr>\n",
       "    <tr>\n",
       "      <th>3</th>\n",
       "      <td>The tendency is either excessive restraint ( Europe ) or a diffusion of the effort ( the United States ) .</td>\n",
       "      <td>目 前 的 趋 势 是 ， 要 么 是 过 度 的 克 制 （ 欧 洲 ） ， 要 么 是 努 力 的 扩 展 （ 美 国 ） 。</td>\n",
       "      <td>True</td>\n",
       "    </tr>\n",
       "    <tr>\n",
       "      <th>4</th>\n",
       "      <td>Europe is being cautious in the name of avoiding debt and defending the euro , whereas the US has moved on many fronts in order not to waste an ideal opportunity to implement badly needed structural reforms .</td>\n",
       "      <td>欧 洲 在 避 免 债 务 和 捍 卫 欧 元 的 名 义 下 正 变 得 谨 慎 ， 而 美 国 已 经 在 许 多 方 面 行 动 起 来 ， 以 利 用 这 一 理 想 的 时 机 来 实 行 急 需 的 结 构 性 改 革 。</td>\n",
       "      <td>False</td>\n",
       "    </tr>\n",
       "    <tr>\n",
       "      <th>...</th>\n",
       "      <td>...</td>\n",
       "      <td>...</td>\n",
       "      <td>...</td>\n",
       "    </tr>\n",
       "    <tr>\n",
       "      <th>256087</th>\n",
       "      <td>He is part of the proud generation that defeated apartheid – and then peacefully engineered a transition to du ##rable black - majority rule .</td>\n",
       "      <td>他 是 打 败 种 族 隔 离 制 度 [UNK] [UNK] 然 后 让 南 非 和 平 过 渡 到 由 人 口 占 多 数 的 黑 人 进 行 长 期 统 治 [UNK] [UNK] 的 自 豪 的 一 代 人 的 一 部 分 。</td>\n",
       "      <td>False</td>\n",
       "    </tr>\n",
       "    <tr>\n",
       "      <th>256088</th>\n",
       "      <td>Their achievement remains one of the greatest in recent history .</td>\n",
       "      <td>这 一 代 人 的 成 就 是 现 代 史 上 最 伟 大 的 成 就 之 一 。</td>\n",
       "      <td>False</td>\n",
       "    </tr>\n",
       "    <tr>\n",
       "      <th>256089</th>\n",
       "      <td>At the same time , Z ##uma ’ s revolutionary generation still seems uneasy leading South Africa in a post - apartheid era that is now 15 years old .</td>\n",
       "      <td>同 时 ， 祖 马 革 命 的 一 代 似 乎 对 领 导 打 破 种 族 隔 离 制 度 15 年 后 的 南 非 ， 还 不 适 应 。</td>\n",
       "      <td>False</td>\n",
       "    </tr>\n",
       "    <tr>\n",
       "      <th>256090</th>\n",
       "      <td>In a region that re ##vere ##s the elderly , Z ##uma ’ s attachment to his rural traditions must be matched by an equal open ##ness to the appetite ##s of the country ’ s youth .</td>\n",
       "      <td>在 一 个 尊 敬 老 人 的 地 区 ， 祖 马 对 其 乡 下 传 统 的 依 恋 ， 必 须 和 对 南 非 年 青 人 的 爱 好 所 持 的 平 等 而 开 放 态 度 相 平 衡 。</td>\n",
       "      <td>False</td>\n",
       "    </tr>\n",
       "    <tr>\n",
       "      <th>256091</th>\n",
       "      <td>Three in ten South Africans are younger than 15 , meaning that they did not live a day under apartheid .</td>\n",
       "      <td>在 南 非 ， 每 10 个 人 中 就 有 三 个 人 的 年 龄 小 于 15 岁 ， 这 意 味 着 ， 这 些 人 从 来 没 有 在 种 族 隔 离 制 度 下 生 活 过 。</td>\n",
       "      <td>False</td>\n",
       "    </tr>\n",
       "  </tbody>\n",
       "</table>\n",
       "<p>256092 rows × 3 columns</p>\n",
       "</div>"
      ],
      "text/plain": [
       "                                                                                                                                                                                                                 English  ... is_valid\n",
       "0                                                                                                                                                                                                         1929 or 1989 ?  ...     True\n",
       "1                                               PA ##RI ##S – As the economic crisis deep ##ens and widen ##s , the world has been searching for historical analog ##ies to help us understand what has been happening .  ...    False\n",
       "2                                                 At the start of the crisis , many people like ##ned it to 1982 or 1973 , which was reassuring , because both dates refer to classical c ##yclic ##al down ##turn ##s .  ...    False\n",
       "3                                                                                                             The tendency is either excessive restraint ( Europe ) or a diffusion of the effort ( the United States ) .  ...     True\n",
       "4       Europe is being cautious in the name of avoiding debt and defending the euro , whereas the US has moved on many fronts in order not to waste an ideal opportunity to implement badly needed structural reforms .  ...    False\n",
       "...                                                                                                                                                                                                                  ...  ...      ...\n",
       "256087                                                                    He is part of the proud generation that defeated apartheid – and then peacefully engineered a transition to du ##rable black - majority rule .  ...    False\n",
       "256088                                                                                                                                                 Their achievement remains one of the greatest in recent history .  ...    False\n",
       "256089                                                              At the same time , Z ##uma ’ s revolutionary generation still seems uneasy leading South Africa in a post - apartheid era that is now 15 years old .  ...    False\n",
       "256090                                In a region that re ##vere ##s the elderly , Z ##uma ’ s attachment to his rural traditions must be matched by an equal open ##ness to the appetite ##s of the country ’ s youth .  ...    False\n",
       "256091                                                                                                          Three in ten South Africans are younger than 15 , meaning that they did not live a day under apartheid .  ...    False\n",
       "\n",
       "[256092 rows x 3 columns]"
      ]
     },
     "execution_count": null,
     "metadata": {},
     "output_type": "execute_result"
    }
   ],
   "source": [
    "# skip\n",
    "# tokenize, clean data and save it to tok_data_loc\n",
    "tok_df = _tokenize_data(ori_data_loc, enc_tokenizer, dec_tokenizer)\n",
    "tok_df = _clean_data(tok_df)\n",
    "tok_df = _small_data(tok_df)\n",
    "tok_df = _add_isvalid(tok_df)\n",
    "tok_df.to_csv(tok_data_loc, index=False)\n",
    "tok_df"
   ]
  },
  {
   "cell_type": "code",
   "execution_count": null,
   "metadata": {},
   "outputs": [
    {
     "data": {
      "text/html": [
       "<div>\n",
       "<style scoped>\n",
       "    .dataframe tbody tr th:only-of-type {\n",
       "        vertical-align: middle;\n",
       "    }\n",
       "\n",
       "    .dataframe tbody tr th {\n",
       "        vertical-align: top;\n",
       "    }\n",
       "\n",
       "    .dataframe thead th {\n",
       "        text-align: right;\n",
       "    }\n",
       "</style>\n",
       "<table border=\"1\" class=\"dataframe\">\n",
       "  <thead>\n",
       "    <tr style=\"text-align: right;\">\n",
       "      <th></th>\n",
       "      <th>eng_len</th>\n",
       "      <th>chn_len</th>\n",
       "    </tr>\n",
       "  </thead>\n",
       "  <tbody>\n",
       "    <tr>\n",
       "      <th>count</th>\n",
       "      <td>256092.000000</td>\n",
       "      <td>256092.000000</td>\n",
       "    </tr>\n",
       "    <tr>\n",
       "      <th>mean</th>\n",
       "      <td>24.718765</td>\n",
       "      <td>34.899095</td>\n",
       "    </tr>\n",
       "    <tr>\n",
       "      <th>std</th>\n",
       "      <td>10.524990</td>\n",
       "      <td>14.172736</td>\n",
       "    </tr>\n",
       "    <tr>\n",
       "      <th>min</th>\n",
       "      <td>1.000000</td>\n",
       "      <td>1.000000</td>\n",
       "    </tr>\n",
       "    <tr>\n",
       "      <th>25%</th>\n",
       "      <td>17.000000</td>\n",
       "      <td>24.000000</td>\n",
       "    </tr>\n",
       "    <tr>\n",
       "      <th>50%</th>\n",
       "      <td>24.000000</td>\n",
       "      <td>35.000000</td>\n",
       "    </tr>\n",
       "    <tr>\n",
       "      <th>75%</th>\n",
       "      <td>32.000000</td>\n",
       "      <td>46.000000</td>\n",
       "    </tr>\n",
       "    <tr>\n",
       "      <th>max</th>\n",
       "      <td>98.000000</td>\n",
       "      <td>62.000000</td>\n",
       "    </tr>\n",
       "  </tbody>\n",
       "</table>\n",
       "</div>"
      ],
      "text/plain": [
       "             eng_len        chn_len\n",
       "count  256092.000000  256092.000000\n",
       "mean       24.718765      34.899095\n",
       "std        10.524990      14.172736\n",
       "min         1.000000       1.000000\n",
       "25%        17.000000      24.000000\n",
       "50%        24.000000      35.000000\n",
       "75%        32.000000      46.000000\n",
       "max        98.000000      62.000000"
      ]
     },
     "execution_count": null,
     "metadata": {},
     "output_type": "execute_result"
    }
   ],
   "source": [
    "# skip\n",
    "eda_tok_df = _get_eda_tok_df(tok_df)\n",
    "eda_tok_df.describe()"
   ]
  },
  {
   "cell_type": "markdown",
   "metadata": {},
   "source": [
    "## get_datasets"
   ]
  },
  {
   "cell_type": "code",
   "execution_count": null,
   "metadata": {},
   "outputs": [],
   "source": [
    "# export\n",
    "def get_nc_dss(tok_data_loc, enc_tokenizer, dec_tokenizer, enc_seq_len, dec_seq_len, pct=1.0):\n",
    "    tok_df = pd.read_csv(tok_data_loc)\n",
    "    \n",
    "    splits = ColSplitter()(tok_df)\n",
    "    splits = pct_splits(splits, pct=pct)\n",
    "    \n",
    "    encoder_input_tfm = [attrgetter('English'), lambda x: x.split(' '), TransformersNumericalize(enc_tokenizer), Pad2Max(enc_seq_len, enc_tokenizer.pad_token_id)]\n",
    "    decoder_input_tfm = [attrgetter('Chinese'), lambda x: x.split(' '), TransformersNumericalize(dec_tokenizer), Pad2Max(dec_seq_len+1, dec_tokenizer.pad_token_id), lambda x: x[:-1]]\n",
    "    decoder_output_tfm = [attrgetter('Chinese'), lambda x: x.split(' '), TransformersNumericalize(dec_tokenizer), Pad2Max(dec_seq_len+1, dec_tokenizer.pad_token_id), lambda x: x[1:]]\n",
    "    ds_tfms = [\n",
    "        encoder_input_tfm,\n",
    "        decoder_input_tfm,\n",
    "        decoder_output_tfm,\n",
    "    ]\n",
    "    \n",
    "    dss = Datasets(tok_df, tfms=ds_tfms, splits=splits, n_inp=2)\n",
    "    return dss"
   ]
  },
  {
   "cell_type": "code",
   "execution_count": null,
   "metadata": {},
   "outputs": [],
   "source": [
    "small_dss = get_nc_dss(tok_data_loc, enc_tokenizer, dec_tokenizer, enc_seq_len, dec_seq_len, pct=0.5)\n",
    "dss = get_nc_dss(tok_data_loc, enc_tokenizer, dec_tokenizer, enc_seq_len, dec_seq_len)\n",
    "test_eq(len(small_dss.train), len(dss.train)//2)"
   ]
  },
  {
   "cell_type": "code",
   "execution_count": null,
   "metadata": {},
   "outputs": [
    {
     "data": {
      "text/plain": [
       "((TensorText([  101,  6355,   117,  1607,  1110, 17111,   117,  1105,  1103,  1646,\n",
       "            117,  2693,  1157,  3407,  4812,  1111,  2052,   787,   188,  4265,\n",
       "           5532,   117,  1336, 12982,  1107,  1618,  3571,  1190,  1211,  2182,\n",
       "           1121,  1103,   182,  6533,  3954,   119,   102,     0,     0,     0,\n",
       "              0,     0,     0,     0,     0,     0,     0,     0,     0,     0,\n",
       "              0,     0,     0,     0,     0,     0,     0,     0,     0,     0,\n",
       "              0,     0,     0,     0,     0,     0,     0,     0,     0,     0,\n",
       "              0,     0,     0,     0,     0,     0,     0,     0,     0,     0,\n",
       "              0,     0,     0,     0,     0,     0,     0,     0,     0,     0,\n",
       "              0,     0,     0,     0,     0,     0,     0,     0,     0,     0]),\n",
       "  TensorText([ 101, 5445, 1325, 1380, 3221,  679, 1062, 2398, 4638,  511, 2226, 5052,\n",
       "          5401, 1744, 6206,  711, 2496,  791, 4638, 1059, 4413, 1314, 3322, 6566,\n",
       "          3291, 1920, 4638, 6569,  818, 8024,  852, 5401, 1744, 1377, 5543,  833,\n",
       "          3683, 1920, 1914, 3144, 1744, 2157,  809, 3291, 5679, 1962, 4638, 1232,\n",
       "          2578, 6624, 1139, 1737, 1862,  511,  102,    0,    0,    0,    0,    0,\n",
       "             0,    0,    0,    0,    0]),\n",
       "  TensorText([5445, 1325, 1380, 3221,  679, 1062, 2398, 4638,  511, 2226, 5052, 5401,\n",
       "          1744, 6206,  711, 2496,  791, 4638, 1059, 4413, 1314, 3322, 6566, 3291,\n",
       "          1920, 4638, 6569,  818, 8024,  852, 5401, 1744, 1377, 5543,  833, 3683,\n",
       "          1920, 1914, 3144, 1744, 2157,  809, 3291, 5679, 1962, 4638, 1232, 2578,\n",
       "          6624, 1139, 1737, 1862,  511,  102,    0,    0,    0,    0,    0,    0,\n",
       "             0,    0,    0,    0,    0])),\n",
       " ('[CLS] Yet, history is unfair, and the US, despite its greater responsibility for today ’ s global crisis, may emerge in better shape than most countries from the morass. [SEP]',\n",
       "  '[CLS] 而 历 史 是 不 公 平 的 。 尽 管 美 国 要 为 当 今 的 全 球 危 机 负 更 大 的 责 任 ， 但 美 国 可 能 会 比 大 多 数 国 家 以 更 良 好 的 势 态 走 出 困 境 。 [SEP]',\n",
       "  '而 历 史 是 不 公 平 的 。 尽 管 美 国 要 为 当 今 的 全 球 危 机 负 更 大 的 责 任 ， 但 美 国 可 能 会 比 大 多 数 国 家 以 更 良 好 的 势 态 走 出 困 境 。 [SEP]'))"
      ]
     },
     "execution_count": null,
     "metadata": {},
     "output_type": "execute_result"
    }
   ],
   "source": [
    "dss.train[10], dss.decode(dss.train[10])"
   ]
  },
  {
   "cell_type": "code",
   "execution_count": null,
   "metadata": {},
   "outputs": [
    {
     "name": "stdout",
     "output_type": "stream",
     "text": [
      "torch.Size([2, 100]) torch.int64 cuda:0 <class 'fastai2.text.data.TensorText'>\n",
      "torch.Size([2, 65]) torch.int64 cuda:0 <class 'fastai2.text.data.TensorText'>\n",
      "torch.Size([2, 65]) torch.int64 cuda:0 <class 'fastai2.text.data.TensorText'>\n"
     ]
    }
   ],
   "source": [
    "dls = dss.dataloaders(bs=2)\n",
    "for x in dls.train:\n",
    "    print(x[0].shape, x[0].dtype, x[0].device, type(x[0]))\n",
    "    print(x[1].shape, x[1].dtype, x[1].device, type(x[1]))\n",
    "    print(x[2].shape, x[2].dtype, x[2].device, type(x[2]))\n",
    "    break"
   ]
  },
  {
   "cell_type": "markdown",
   "metadata": {},
   "source": [
    "## Export -"
   ]
  },
  {
   "cell_type": "code",
   "execution_count": null,
   "metadata": {},
   "outputs": [
    {
     "name": "stdout",
     "output_type": "stream",
     "text": [
      "Converted 02_data.news_commentary.ipynb.\n",
      "Converted 02_data.tatoeba.ipynb.\n",
      "Converted 03a_models.patch.ipynb.\n",
      "Converted 03c_models.bert2gpt2.ipynb.\n",
      "Converted 03c_models.gru2gru.ipynb.\n",
      "Converted 03c_models.tran2tran.ipynb.\n",
      "Converted 04_metrics.ipynb.\n",
      "Converted 99_fulltest_bert2gpt2.ipynb.\n",
      "Converted 99_fulltest_gru2gru.ipynb.\n",
      "Converted 99_fulltest_tran2tran.ipynb.\n",
      "Converted index.ipynb.\n"
     ]
    }
   ],
   "source": [
    "# hide\n",
    "from nbdev.export import notebook2script\n",
    "notebook2script()"
   ]
  },
  {
   "cell_type": "code",
   "execution_count": null,
   "metadata": {},
   "outputs": [],
   "source": []
  }
 ],
 "metadata": {
  "kernelspec": {
   "display_name": "Python 3",
   "language": "python",
   "name": "python3"
  }
 },
 "nbformat": 4,
 "nbformat_minor": 4
}
