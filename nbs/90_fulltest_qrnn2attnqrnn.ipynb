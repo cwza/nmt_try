{
 "cells": [
  {
   "cell_type": "code",
   "execution_count": null,
   "metadata": {},
   "outputs": [
    {
     "data": {
      "text/html": [
       "<p style=\"color: red;\">\n",
       "The default version of TensorFlow in Colab will soon switch to TensorFlow 2.x.<br>\n",
       "We recommend you <a href=\"https://www.tensorflow.org/guide/migrate\" target=\"_blank\">upgrade</a> now \n",
       "or ensure your notebook will continue to use TensorFlow 1.x via the <code>%tensorflow_version 1.x</code> magic:\n",
       "<a href=\"https://colab.research.google.com/notebooks/tensorflow_version.ipynb\" target=\"_blank\">more info</a>.</p>\n"
      ],
      "text/plain": [
       "<IPython.core.display.HTML object>"
      ]
     },
     "metadata": {},
     "output_type": "display_data"
    }
   ],
   "source": [
    "from fastai2.basics import *\n",
    "from transformers import AutoTokenizer\n",
    "from fastai_transformers_utils.all import *\n",
    "\n",
    "from nmt_try.models.patch import *\n",
    "from nmt_try.models.qrnn2qrnn import *\n",
    "from nmt_try.data.tatoeba import *\n",
    "from nmt_try.metrics import compute_bleu"
   ]
  },
  {
   "cell_type": "code",
   "execution_count": null,
   "metadata": {},
   "outputs": [],
   "source": [
    "# all_skip"
   ]
  },
  {
   "cell_type": "code",
   "execution_count": null,
   "metadata": {},
   "outputs": [],
   "source": [
    "tok_data_loc = './test_data/tok_cmn.csv'\n",
    "enc_model_name = 'hfl/chinese-bert-wwm-ext'\n",
    "dec_model_name = 'distilgpt2'\n",
    "enc_seq_len = 50\n",
    "dec_seq_len = 40"
   ]
  },
  {
   "cell_type": "code",
   "execution_count": null,
   "metadata": {},
   "outputs": [],
   "source": [
    "enc_tokenizer = AutoTokenizer.from_pretrained(enc_model_name)\n",
    "dec_tokenizer = GPT2DecoderTokenizer.from_pretrained(dec_model_name)"
   ]
  },
  {
   "cell_type": "markdown",
   "metadata": {},
   "source": [
    "# Full Test of QRNN2AttnQRNN"
   ]
  },
  {
   "cell_type": "markdown",
   "metadata": {},
   "source": [
    "## Datasets"
   ]
  },
  {
   "cell_type": "code",
   "execution_count": null,
   "metadata": {},
   "outputs": [
    {
     "data": {
      "text/plain": [
       "(3392, 16964)"
      ]
     },
     "execution_count": null,
     "metadata": {},
     "output_type": "execute_result"
    }
   ],
   "source": [
    "small_dss = get_tatoeba_dss(tok_data_loc, enc_tokenizer, dec_tokenizer, enc_seq_len, dec_seq_len, pct=0.2)\n",
    "dss = get_tatoeba_dss(tok_data_loc, enc_tokenizer, dec_tokenizer, enc_seq_len, dec_seq_len)\n",
    "len(small_dss.train), len(dss.train)"
   ]
  },
  {
   "cell_type": "code",
   "execution_count": null,
   "metadata": {},
   "outputs": [
    {
     "data": {
      "text/plain": [
       "((TensorText([ 101,  800, 6651,  749,  511,  102,    0,    0,    0,    0,    0,    0,\n",
       "             0,    0,    0,    0,    0,    0,    0,    0,    0,    0,    0,    0,\n",
       "             0,    0,    0,    0,    0,    0,    0,    0,    0,    0,    0,    0,\n",
       "             0,    0,    0,    0,    0,    0,    0,    0,    0,    0,    0,    0,\n",
       "             0,    0]),\n",
       "  TensorText([50257,  1544,  4966,    13, 50256, 50258, 50258, 50258, 50258, 50258,\n",
       "          50258, 50258, 50258, 50258, 50258, 50258, 50258, 50258, 50258, 50258,\n",
       "          50258, 50258, 50258, 50258, 50258, 50258, 50258, 50258, 50258, 50258,\n",
       "          50258, 50258, 50258, 50258, 50258, 50258, 50258, 50258, 50258, 50258]),\n",
       "  TensorText([ 1544,  4966,    13, 50256, 50258, 50258, 50258, 50258, 50258, 50258,\n",
       "          50258, 50258, 50258, 50258, 50258, 50258, 50258, 50258, 50258, 50258,\n",
       "          50258, 50258, 50258, 50258, 50258, 50258, 50258, 50258, 50258, 50258,\n",
       "          50258, 50258, 50258, 50258, 50258, 50258, 50258, 50258, 50258, 50258])),\n",
       " ('[CLS] 他 跑 了 。 [SEP]',\n",
       "  '<|bos|> He ran.<|endoftext|>',\n",
       "  'He ran.<|endoftext|>'))"
      ]
     },
     "execution_count": null,
     "metadata": {},
     "output_type": "execute_result"
    }
   ],
   "source": [
    "dss.train[10], dss.decode(dss.train[10])"
   ]
  },
  {
   "cell_type": "code",
   "execution_count": null,
   "metadata": {},
   "outputs": [],
   "source": [
    "# dls = dss.dataloaders(bs=2)\n",
    "# for x in dls.train:\n",
    "#     print(x[0].shape, x[0].dtype, x[0].device, type(x[0]))\n",
    "#     print(x[1].shape, x[1].dtype, x[0].device, type(x[1]))\n",
    "#     print(x[2].shape, x[2].dtype, x[0].device, type(x[2]))\n",
    "#     break"
   ]
  },
  {
   "cell_type": "markdown",
   "metadata": {},
   "source": [
    "## Model"
   ]
  },
  {
   "cell_type": "code",
   "execution_count": null,
   "metadata": {},
   "outputs": [],
   "source": [
    "enc_vocab_size = len(enc_tokenizer)\n",
    "enc_pad_id = enc_tokenizer.pad_token_id\n",
    "\n",
    "dec_vocab_size = len(dec_tokenizer)\n",
    "dec_pad_id = dec_tokenizer.pad_token_id\n",
    "\n",
    "embeded_size = 256\n",
    "num_encoder_layers = 2\n",
    "num_decoder_layers = 2\n",
    "drop_p = 0.1\n",
    "\n",
    "num_heads=1"
   ]
  },
  {
   "cell_type": "code",
   "execution_count": null,
   "metadata": {},
   "outputs": [
    {
     "name": "stdout",
     "output_type": "stream",
     "text": [
      "NameError: name 'qrnn2attnqrnn' is not defined\n",
      "NameError: name 'decoder' is not defined\n",
      "NameError: name 'encoder' is not defined\n"
     ]
    }
   ],
   "source": [
    "%xdel qrnn2attnqrnn\n",
    "%xdel decoder\n",
    "%xdel encoder\n",
    "encoder = QRNNEncoder(enc_vocab_size, embeded_size, enc_pad_id, num_encoder_layers, drop_p)\n",
    "decoder = CrossAttnQRNNDecoder(dec_vocab_size, embeded_size, dec_pad_id, num_decoder_layers, drop_p, num_heads)\n",
    "qrnn2attnqrnn = QRNN2AttnQRNN(encoder, decoder, num_encoder_layers, num_decoder_layers, embeded_size, enc_pad_id)"
   ]
  },
  {
   "cell_type": "markdown",
   "metadata": {},
   "source": [
    "## Learner and Train"
   ]
  },
  {
   "cell_type": "code",
   "execution_count": null,
   "metadata": {},
   "outputs": [
    {
     "name": "stdout",
     "output_type": "stream",
     "text": [
      "NameError: name 'dls' is not defined\n",
      "NameError: name 'learn' is not defined\n"
     ]
    }
   ],
   "source": [
    "%xdel dls\n",
    "%xdel learn\n",
    "dls = small_dss.dataloaders(bs=128)\n",
    "# dls = dss.dataloaders(bs=128)\n",
    "learn = Learner(dls, \n",
    "                qrnn2attnqrnn, \n",
    "                loss_func=CrossEntropyLossFlat(ignore_index=dec_pad_id), \n",
    "                opt_func=Adam,\n",
    "                metrics=[accuracy, Perplexity()],\n",
    "                cbs=[QRNN2QRNNCallback()]\n",
    "               ).to_fp16()"
   ]
  },
  {
   "cell_type": "code",
   "execution_count": null,
   "metadata": {},
   "outputs": [],
   "source": [
    "learn.fit_one_cycle(1, 5e-4)"
   ]
  },
  {
   "cell_type": "code",
   "execution_count": null,
   "metadata": {},
   "outputs": [
    {
     "data": {
      "text/html": [
       "<table border=\"1\" class=\"dataframe\">\n",
       "  <thead>\n",
       "    <tr style=\"text-align: left;\">\n",
       "      <th>epoch</th>\n",
       "      <th>train_loss</th>\n",
       "      <th>valid_loss</th>\n",
       "      <th>accuracy</th>\n",
       "      <th>perplexity</th>\n",
       "      <th>time</th>\n",
       "    </tr>\n",
       "  </thead>\n",
       "  <tbody>\n",
       "    <tr>\n",
       "      <td>0</td>\n",
       "      <td>6.785617</td>\n",
       "      <td>5.789774</td>\n",
       "      <td>0.025000</td>\n",
       "      <td>326.939117</td>\n",
       "      <td>00:48</td>\n",
       "    </tr>\n",
       "    <tr>\n",
       "      <td>1</td>\n",
       "      <td>5.883923</td>\n",
       "      <td>5.723858</td>\n",
       "      <td>0.025000</td>\n",
       "      <td>306.083496</td>\n",
       "      <td>00:47</td>\n",
       "    </tr>\n",
       "    <tr>\n",
       "      <td>2</td>\n",
       "      <td>5.720279</td>\n",
       "      <td>5.647510</td>\n",
       "      <td>0.024375</td>\n",
       "      <td>283.584351</td>\n",
       "      <td>00:48</td>\n",
       "    </tr>\n",
       "  </tbody>\n",
       "</table>"
      ],
      "text/plain": [
       "<IPython.core.display.HTML object>"
      ]
     },
     "metadata": {},
     "output_type": "display_data"
    }
   ],
   "source": [
    "# learn.fit_one_cycle(3, 5e-4)"
   ]
  },
  {
   "cell_type": "markdown",
   "metadata": {},
   "source": [
    "## Bleu"
   ]
  },
  {
   "cell_type": "code",
   "execution_count": null,
   "metadata": {},
   "outputs": [],
   "source": [
    "generated_qrnn2attnqrnn = GeneratedQRNN2AttnQRNN(qrnn2attnqrnn, enc_tokenizer, dec_tokenizer)\n",
    "generate_args = GenerateArgs(   \n",
    "    max_length=20,\n",
    "#     do_sample=True,\n",
    "    num_beams=1,\n",
    "    temperature=1.0,\n",
    "    repetition_penalty=1,\n",
    "    length_penalty=1.0,\n",
    ")"
   ]
  },
  {
   "cell_type": "code",
   "execution_count": null,
   "metadata": {},
   "outputs": [
    {
     "data": {
      "text/html": [
       "\n",
       "    <div>\n",
       "        <style>\n",
       "            /* Turns off some styling */\n",
       "            progress {\n",
       "                /* gets rid of default border in Firefox and Opera. */\n",
       "                border: none;\n",
       "                /* Needs to be in here for Safari polyfill so background images work as expected. */\n",
       "                background-size: auto;\n",
       "            }\n",
       "            .progress-bar-interrupted, .progress-bar-interrupted::-webkit-progress-bar {\n",
       "                background: #F44336;\n",
       "            }\n",
       "        </style>\n",
       "      <progress value='34' class='' max='34', style='width:300px; height:20px; vertical-align: middle;'></progress>\n",
       "      100.00% [34/34 00:13<00:00]\n",
       "    </div>\n",
       "    "
      ],
      "text/plain": [
       "<IPython.core.display.HTML object>"
      ]
     },
     "metadata": {},
     "output_type": "display_data"
    },
    {
     "name": "stderr",
     "output_type": "stream",
     "text": [
      "/usr/local/lib/python3.6/dist-packages/nltk/translate/bleu_score.py:490: UserWarning: \n",
      "Corpus/Sentence contains 0 counts of 2-gram overlaps.\n",
      "BLEU scores might be undesirable; use SmoothingFunction().\n",
      "  warnings.warn(_msg)\n"
     ]
    },
    {
     "data": {
      "text/plain": [
       "2.1120610680284926e-52"
      ]
     },
     "execution_count": null,
     "metadata": {},
     "output_type": "execute_result"
    }
   ],
   "source": [
    "compute_bleu(generated_qrnn2attnqrnn, generate_args, dec_tokenizer, dls.valid)"
   ]
  },
  {
   "cell_type": "markdown",
   "metadata": {},
   "source": [
    "## Generate"
   ]
  },
  {
   "cell_type": "code",
   "execution_count": null,
   "metadata": {},
   "outputs": [],
   "source": [
    "generate_args = GenerateArgs(   \n",
    "    max_length=20,\n",
    "#     do_sample=True,\n",
    "    num_beams=3,\n",
    "    temperature=1.0,\n",
    "    repetition_penalty=1,\n",
    "    length_penalty=1.0,\n",
    ")"
   ]
  },
  {
   "cell_type": "code",
   "execution_count": null,
   "metadata": {},
   "outputs": [
    {
     "data": {
      "text/plain": [
       "['..................',\n",
       " '..................',\n",
       " '..................',\n",
       " '..................',\n",
       " '..................']"
      ]
     },
     "execution_count": null,
     "metadata": {},
     "output_type": "execute_result"
    }
   ],
   "source": [
    "src_strs = [\n",
    "    '他们有自己的愿景，自己的规划师、建筑师和工程师，自己的劳动力。',\n",
    "    '随着需求不断攀升，不仅亚洲会创造出更多更好的就业机会，全球范围内的供应链及整个生产网络也将会从中受益。',\n",
    "    '如果欧盟想要突破共同的经济和货币政策的界限，在发展安全防卫政策的同时发展共同的外交政策，英国必须参与。',\n",
    "    '如今，当新的流感菌株在亚洲出现时，科学家收集咽喉棉签，分离病毒，测定毒株的基因序列。',\n",
    "    '李总统计划的其他要素还包括建设生态友好的运输网络，例如高速铁路以及几百公里长的自行车车道，并且从垃圾堆中利用甲烷来制造能源。',\n",
    "]\n",
    "tgt_strs = [\n",
    "    'They have their own vision; their own planners, architects, and engineers; and their own manpower.',\n",
    "    'As demand rises, more and better jobs will be created not only in Asia, but also globally, along supply chains and across production networks.',\n",
    "    'If the EU is to progress beyond the limits of a common economic and monetary policy and develop a defense and security policy along with a common foreign policy, the UK must be on board.',\n",
    "    'Today, when a new strain of influenza appears in Asia, scientists collect a throat swab, isolate the virus, and run the strain’s genetic sequence.',\n",
    "    'Other elements of Lee’s plan include construction of eco-friendly transportation networks, such as high-speed railways and hundreds of kilometers of bicycle tracks, and generating energy using waste methane from landfills.',\n",
    "\n",
    "]\n",
    "result = generated_qrnn2attnqrnn.generate_from_strs(src_strs, generate_args, device='cuda:0')\n",
    "result"
   ]
  },
  {
   "cell_type": "code",
   "execution_count": null,
   "metadata": {},
   "outputs": [
    {
     "data": {
      "text/plain": [
       "['..................',\n",
       " '..................',\n",
       " '..................',\n",
       " '..................',\n",
       " '..................']"
      ]
     },
     "execution_count": null,
     "metadata": {},
     "output_type": "execute_result"
    }
   ],
   "source": [
    "src_strs = [\n",
    "    '他们有自己的愿景，自己的规划师、建筑师和工程师，自己的劳动力。',\n",
    "    '随着需求不断攀升，不仅亚洲会创造出更多更好的就业机会，全球范围内的供应链及整个生产网络也将会从中受益。',\n",
    "    '如果欧盟想要突破共同的经济和货币政策的界限，在发展安全防卫政策的同时发展共同的外交政策，英国必须参与。',\n",
    "    '如今，当新的流感菌株在亚洲出现时，科学家收集咽喉棉签，分离病毒，测定毒株的基因序列。',\n",
    "    '李总统计划的其他要素还包括建设生态友好的运输网络，例如高速铁路以及几百公里长的自行车车道，并且从垃圾堆中利用甲烷来制造能源。',\n",
    "]\n",
    "tgt_strs = [\n",
    "    'They have their own vision; their own planners, architects, and engineers; and their own manpower.',\n",
    "    'As demand rises, more and better jobs will be created not only in Asia, but also globally, along supply chains and across production networks.',\n",
    "    'If the EU is to progress beyond the limits of a common economic and monetary policy and develop a defense and security policy along with a common foreign policy, the UK must be on board.',\n",
    "    'Today, when a new strain of influenza appears in Asia, scientists collect a throat swab, isolate the virus, and run the strain’s genetic sequence.',\n",
    "    'Other elements of Lee’s plan include construction of eco-friendly transportation networks, such as high-speed railways and hundreds of kilometers of bicycle tracks, and generating energy using waste methane from landfills.',\n",
    "\n",
    "]\n",
    "result = generated_qrnn2attnqrnn.generate_from_strs(src_strs, generate_args, device='cuda:0')\n",
    "result"
   ]
  },
  {
   "cell_type": "code",
   "execution_count": null,
   "metadata": {},
   "outputs": [],
   "source": []
  }
 ],
 "metadata": {
  "kernelspec": {
   "display_name": "Python 3",
   "language": "python",
   "name": "python3"
  }
 },
 "nbformat": 4,
 "nbformat_minor": 4
}
