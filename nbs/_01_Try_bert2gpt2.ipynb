{
 "cells": [
  {
   "cell_type": "code",
   "execution_count": null,
   "metadata": {},
   "outputs": [],
   "source": [
    "import optuna\n",
    "from fastai2.basics import *\n",
    "from transformers import AutoTokenizer\n",
    "\n",
    "from fastai2_utils.pytorch.model import *\n",
    "from fastai_transformers_utils.all import *\n",
    "\n",
    "from nmt_small.models.patch import *\n",
    "from nmt_small.models.bert2gpt2 import BertEncoder, GPT2Decoder, Bert2GPT2, GeneratedBert2GPT2\n",
    "from nmt_small.data.tatoeba import get_datasets\n",
    "from nmt_small.metrics import compute_bleu"
   ]
  },
  {
   "cell_type": "code",
   "execution_count": null,
   "metadata": {},
   "outputs": [],
   "source": [
    "# all_slow"
   ]
  },
  {
   "cell_type": "code",
   "execution_count": null,
   "metadata": {},
   "outputs": [],
   "source": [
    "tok_data_loc = './data/tatoeba/tok_cmn.csv'\n",
    "enc_model_name = 'hfl/chinese-bert-wwm-ext'\n",
    "dec_model_name = 'distilgpt2'\n",
    "enc_seq_len = 50\n",
    "dec_seq_len = 40"
   ]
  },
  {
   "cell_type": "code",
   "execution_count": null,
   "metadata": {},
   "outputs": [],
   "source": [
    "enc_tokenizer = AutoTokenizer.from_pretrained(enc_model_name)\n",
    "dec_tokenizer = GPT2DecoderTokenizer.from_pretrained(dec_model_name)"
   ]
  },
  {
   "cell_type": "markdown",
   "metadata": {},
   "source": [
    "## Datasets"
   ]
  },
  {
   "cell_type": "code",
   "execution_count": null,
   "metadata": {},
   "outputs": [],
   "source": [
    "small_dss = get_datasets(tok_data_loc, enc_tokenizer, dec_tokenizer, enc_seq_len, dec_seq_len, pct=0.2)\n",
    "dss = get_datasets(tok_data_loc, enc_tokenizer, dec_tokenizer, enc_seq_len, dec_seq_len)\n",
    "# len(small_dss.train), len(dss.train)"
   ]
  },
  {
   "cell_type": "code",
   "execution_count": null,
   "metadata": {},
   "outputs": [],
   "source": [
    "# dss.train[10], dss.decode(dss.train[10])"
   ]
  },
  {
   "cell_type": "code",
   "execution_count": null,
   "metadata": {},
   "outputs": [],
   "source": [
    "# dls = dss.dataloaders(bs=2)\n",
    "# for x in dls.train:\n",
    "#     print(x[0].shape, x[0].dtype, x[0].device, type(x[0]))\n",
    "#     print(x[1].shape, x[1].dtype, x[0].device, type(x[1]))\n",
    "#     print(x[2].shape, x[2].dtype, x[0].device, type(x[2]))\n",
    "#     break"
   ]
  },
  {
   "cell_type": "markdown",
   "metadata": {},
   "source": [
    "## Model"
   ]
  },
  {
   "cell_type": "code",
   "execution_count": null,
   "metadata": {},
   "outputs": [],
   "source": [
    "def get_model(device):\n",
    "    encoder = BertEncoder(enc_model_name)\n",
    "    decoder = GPT2Decoder(\n",
    "        dec_model_name, dec_tokenizer.pad_token_id,\n",
    "        vocab_size=len(dec_tokenizer),\n",
    "        num_heads=2, drop_p=0, num_layers=2,\n",
    "    )\n",
    "    model = Bert2GPT2(encoder, decoder, enc_tokenizer.pad_token_id)\n",
    "    model.to(device)\n",
    "    return model\n",
    "model = get_model('cpu')"
   ]
  },
  {
   "cell_type": "code",
   "execution_count": null,
   "metadata": {},
   "outputs": [],
   "source": [
    "freeze_to(model.encoder.layer_groups, 13)\n",
    "freeze_to(model.decoder.layer_groups, -3)"
   ]
  },
  {
   "cell_type": "code",
   "execution_count": null,
   "metadata": {},
   "outputs": [
    {
     "ename": "RuntimeError",
     "evalue": "Expected object of device type cuda but got device type cpu for argument #3 'index' in call to _th_index_select",
     "output_type": "error",
     "traceback": [
      "\u001b[0;31m---------------------------------------------------------------------------\u001b[0m",
      "\u001b[0;31mRuntimeError\u001b[0m                              Traceback (most recent call last)",
      "\u001b[0;32m<ipython-input-19-2616ae6afce5>\u001b[0m in \u001b[0;36m<module>\u001b[0;34m()\u001b[0m\n\u001b[0;32m----> 1\u001b[0;31m \u001b[0mmodel\u001b[0m\u001b[0;34m.\u001b[0m\u001b[0msummary\u001b[0m\u001b[0;34m(\u001b[0m\u001b[0mtorch\u001b[0m\u001b[0;34m.\u001b[0m\u001b[0mones\u001b[0m\u001b[0;34m(\u001b[0m\u001b[0;34m(\u001b[0m\u001b[0;36m16\u001b[0m\u001b[0;34m,\u001b[0m \u001b[0menc_seq_len\u001b[0m\u001b[0;34m)\u001b[0m\u001b[0;34m)\u001b[0m\u001b[0;34m.\u001b[0m\u001b[0mlong\u001b[0m\u001b[0;34m(\u001b[0m\u001b[0;34m)\u001b[0m\u001b[0;34m,\u001b[0m \u001b[0mtorch\u001b[0m\u001b[0;34m.\u001b[0m\u001b[0mones\u001b[0m\u001b[0;34m(\u001b[0m\u001b[0;34m(\u001b[0m\u001b[0;36m16\u001b[0m\u001b[0;34m,\u001b[0m \u001b[0mdec_seq_len\u001b[0m\u001b[0;34m)\u001b[0m\u001b[0;34m)\u001b[0m\u001b[0;34m.\u001b[0m\u001b[0mlong\u001b[0m\u001b[0;34m(\u001b[0m\u001b[0;34m)\u001b[0m\u001b[0;34m)\u001b[0m\u001b[0;34m\u001b[0m\u001b[0;34m\u001b[0m\u001b[0m\n\u001b[0m",
      "\u001b[0;32m/content/gdrive/My Drive/Colab_Codes/fastai2_utils/fastai2_utils/pytorch/model.py\u001b[0m in \u001b[0;36msummary\u001b[0;34m(self, *sample_inputs)\u001b[0m\n\u001b[1;32m     30\u001b[0m         \u001b[0msample_inputs\u001b[0m\u001b[0;34m:\u001b[0m \u001b[0msample\u001b[0m \u001b[0minputs\u001b[0m \u001b[0mof\u001b[0m \u001b[0myour\u001b[0m \u001b[0mmodel\u001b[0m\u001b[0;34m,\u001b[0m \u001b[0monly\u001b[0m \u001b[0msupport\u001b[0m \u001b[0mbatch\u001b[0m \u001b[0mfirst\u001b[0m \u001b[0minputs\u001b[0m\u001b[0;34m\u001b[0m\u001b[0;34m\u001b[0m\u001b[0m\n\u001b[1;32m     31\u001b[0m     '''\n\u001b[0;32m---> 32\u001b[0;31m     \u001b[0msample_inputs\u001b[0m\u001b[0;34m,\u001b[0m\u001b[0minfos\u001b[0m \u001b[0;34m=\u001b[0m \u001b[0mlayer_info\u001b[0m\u001b[0;34m(\u001b[0m\u001b[0mself\u001b[0m\u001b[0;34m,\u001b[0m \u001b[0;34m*\u001b[0m\u001b[0msample_inputs\u001b[0m\u001b[0;34m)\u001b[0m\u001b[0;34m\u001b[0m\u001b[0;34m\u001b[0m\u001b[0m\n\u001b[0m\u001b[1;32m     33\u001b[0m     \u001b[0mn\u001b[0m\u001b[0;34m,\u001b[0m\u001b[0mbs\u001b[0m \u001b[0;34m=\u001b[0m \u001b[0;36m64\u001b[0m\u001b[0;34m,\u001b[0m\u001b[0mfind_bs\u001b[0m\u001b[0;34m(\u001b[0m\u001b[0msample_inputs\u001b[0m\u001b[0;34m)\u001b[0m\u001b[0;34m\u001b[0m\u001b[0;34m\u001b[0m\u001b[0m\n\u001b[1;32m     34\u001b[0m     \u001b[0minp_sz\u001b[0m \u001b[0;34m=\u001b[0m \u001b[0m_print_shapes\u001b[0m\u001b[0;34m(\u001b[0m\u001b[0mapply\u001b[0m\u001b[0;34m(\u001b[0m\u001b[0;32mlambda\u001b[0m \u001b[0mx\u001b[0m\u001b[0;34m:\u001b[0m\u001b[0mx\u001b[0m\u001b[0;34m.\u001b[0m\u001b[0mshape\u001b[0m\u001b[0;34m,\u001b[0m \u001b[0msample_inputs\u001b[0m\u001b[0;34m)\u001b[0m\u001b[0;34m,\u001b[0m \u001b[0mbs\u001b[0m\u001b[0;34m)\u001b[0m\u001b[0;34m\u001b[0m\u001b[0;34m\u001b[0m\u001b[0m\n",
      "\u001b[0;32m/content/gdrive/My Drive/Colab_Codes/fastai2_utils/fastai2_utils/pytorch/model.py\u001b[0m in \u001b[0;36mlayer_info\u001b[0;34m(model, *sample_inputs)\u001b[0m\n\u001b[1;32m     16\u001b[0m     \u001b[0mlayers\u001b[0m \u001b[0;34m=\u001b[0m \u001b[0;34m[\u001b[0m\u001b[0mm\u001b[0m \u001b[0;32mfor\u001b[0m \u001b[0mm\u001b[0m \u001b[0;32min\u001b[0m \u001b[0mflatten_model\u001b[0m\u001b[0;34m(\u001b[0m\u001b[0mmodel\u001b[0m\u001b[0;34m)\u001b[0m\u001b[0;34m]\u001b[0m\u001b[0;34m\u001b[0m\u001b[0;34m\u001b[0m\u001b[0m\n\u001b[1;32m     17\u001b[0m     \u001b[0;32mwith\u001b[0m \u001b[0mHooks\u001b[0m\u001b[0;34m(\u001b[0m\u001b[0mlayers\u001b[0m\u001b[0;34m,\u001b[0m \u001b[0m_track\u001b[0m\u001b[0;34m)\u001b[0m \u001b[0;32mas\u001b[0m \u001b[0mh\u001b[0m\u001b[0;34m:\u001b[0m\u001b[0;34m\u001b[0m\u001b[0;34m\u001b[0m\u001b[0m\n\u001b[0;32m---> 18\u001b[0;31m         \u001b[0m_\u001b[0m \u001b[0;34m=\u001b[0m \u001b[0mmodel\u001b[0m\u001b[0;34m.\u001b[0m\u001b[0meval\u001b[0m\u001b[0;34m(\u001b[0m\u001b[0;34m)\u001b[0m\u001b[0;34m(\u001b[0m\u001b[0;34m*\u001b[0m\u001b[0mapply\u001b[0m\u001b[0;34m(\u001b[0m\u001b[0;32mlambda\u001b[0m \u001b[0mo\u001b[0m\u001b[0;34m:\u001b[0m\u001b[0mo\u001b[0m\u001b[0;34m[\u001b[0m\u001b[0;34m:\u001b[0m\u001b[0;36m1\u001b[0m\u001b[0;34m]\u001b[0m\u001b[0;34m,\u001b[0m \u001b[0msample_inputs\u001b[0m\u001b[0;34m)\u001b[0m\u001b[0;34m)\u001b[0m\u001b[0;34m\u001b[0m\u001b[0;34m\u001b[0m\u001b[0m\n\u001b[0m\u001b[1;32m     19\u001b[0m         \u001b[0;32mreturn\u001b[0m \u001b[0msample_inputs\u001b[0m\u001b[0;34m,\u001b[0m\u001b[0mh\u001b[0m\u001b[0;34m.\u001b[0m\u001b[0mstored\u001b[0m\u001b[0;34m\u001b[0m\u001b[0;34m\u001b[0m\u001b[0m\n\u001b[1;32m     20\u001b[0m \u001b[0;34m\u001b[0m\u001b[0m\n",
      "\u001b[0;32m/usr/local/lib/python3.6/dist-packages/torch/nn/modules/module.py\u001b[0m in \u001b[0;36m__call__\u001b[0;34m(self, *input, **kwargs)\u001b[0m\n\u001b[1;32m    539\u001b[0m             \u001b[0mresult\u001b[0m \u001b[0;34m=\u001b[0m \u001b[0mself\u001b[0m\u001b[0;34m.\u001b[0m\u001b[0m_slow_forward\u001b[0m\u001b[0;34m(\u001b[0m\u001b[0;34m*\u001b[0m\u001b[0minput\u001b[0m\u001b[0;34m,\u001b[0m \u001b[0;34m**\u001b[0m\u001b[0mkwargs\u001b[0m\u001b[0;34m)\u001b[0m\u001b[0;34m\u001b[0m\u001b[0;34m\u001b[0m\u001b[0m\n\u001b[1;32m    540\u001b[0m         \u001b[0;32melse\u001b[0m\u001b[0;34m:\u001b[0m\u001b[0;34m\u001b[0m\u001b[0;34m\u001b[0m\u001b[0m\n\u001b[0;32m--> 541\u001b[0;31m             \u001b[0mresult\u001b[0m \u001b[0;34m=\u001b[0m \u001b[0mself\u001b[0m\u001b[0;34m.\u001b[0m\u001b[0mforward\u001b[0m\u001b[0;34m(\u001b[0m\u001b[0;34m*\u001b[0m\u001b[0minput\u001b[0m\u001b[0;34m,\u001b[0m \u001b[0;34m**\u001b[0m\u001b[0mkwargs\u001b[0m\u001b[0;34m)\u001b[0m\u001b[0;34m\u001b[0m\u001b[0;34m\u001b[0m\u001b[0m\n\u001b[0m\u001b[1;32m    542\u001b[0m         \u001b[0;32mfor\u001b[0m \u001b[0mhook\u001b[0m \u001b[0;32min\u001b[0m \u001b[0mself\u001b[0m\u001b[0;34m.\u001b[0m\u001b[0m_forward_hooks\u001b[0m\u001b[0;34m.\u001b[0m\u001b[0mvalues\u001b[0m\u001b[0;34m(\u001b[0m\u001b[0;34m)\u001b[0m\u001b[0;34m:\u001b[0m\u001b[0;34m\u001b[0m\u001b[0;34m\u001b[0m\u001b[0m\n\u001b[1;32m    543\u001b[0m             \u001b[0mhook_result\u001b[0m \u001b[0;34m=\u001b[0m \u001b[0mhook\u001b[0m\u001b[0;34m(\u001b[0m\u001b[0mself\u001b[0m\u001b[0;34m,\u001b[0m \u001b[0minput\u001b[0m\u001b[0;34m,\u001b[0m \u001b[0mresult\u001b[0m\u001b[0;34m)\u001b[0m\u001b[0;34m\u001b[0m\u001b[0;34m\u001b[0m\u001b[0m\n",
      "\u001b[0;32m/content/gdrive/My Drive/Colab_Codes/nmt_small/nmt_small/models/bert2gpt2.py\u001b[0m in \u001b[0;36mforward\u001b[0;34m(self, src_input_ids, tgt_input_ids)\u001b[0m\n\u001b[1;32m    151\u001b[0m         '''\n\u001b[1;32m    152\u001b[0m         \u001b[0msrc_attention_mask\u001b[0m \u001b[0;34m=\u001b[0m \u001b[0mgen_attention_mask\u001b[0m\u001b[0;34m(\u001b[0m\u001b[0msrc_input_ids\u001b[0m\u001b[0;34m,\u001b[0m \u001b[0mself\u001b[0m\u001b[0;34m.\u001b[0m\u001b[0menc_pad_id\u001b[0m\u001b[0;34m)\u001b[0m \u001b[0;31m# (bs, enc_seq_len)\u001b[0m\u001b[0;34m\u001b[0m\u001b[0;34m\u001b[0m\u001b[0m\n\u001b[0;32m--> 153\u001b[0;31m         \u001b[0mmemory\u001b[0m \u001b[0;34m=\u001b[0m \u001b[0mself\u001b[0m\u001b[0;34m.\u001b[0m\u001b[0mencoder\u001b[0m\u001b[0;34m(\u001b[0m\u001b[0msrc_input_ids\u001b[0m\u001b[0;34m,\u001b[0m \u001b[0msrc_attention_mask\u001b[0m\u001b[0;34m)\u001b[0m \u001b[0;31m# (bs, enc_seq_len, embed_size)\u001b[0m\u001b[0;34m\u001b[0m\u001b[0;34m\u001b[0m\u001b[0m\n\u001b[0m\u001b[1;32m    154\u001b[0m         \u001b[0mmemory_key_padding_mask\u001b[0m \u001b[0;34m=\u001b[0m \u001b[0;34m(\u001b[0m\u001b[0;36m1\u001b[0m\u001b[0;34m-\u001b[0m\u001b[0msrc_attention_mask\u001b[0m\u001b[0;34m)\u001b[0m\u001b[0;34m.\u001b[0m\u001b[0mbool\u001b[0m\u001b[0;34m(\u001b[0m\u001b[0;34m)\u001b[0m\u001b[0;34m\u001b[0m\u001b[0;34m\u001b[0m\u001b[0m\n\u001b[1;32m    155\u001b[0m         \u001b[0moutput\u001b[0m\u001b[0;34m,\u001b[0m \u001b[0m_\u001b[0m \u001b[0;34m=\u001b[0m \u001b[0mself\u001b[0m\u001b[0;34m.\u001b[0m\u001b[0mdecoder\u001b[0m\u001b[0;34m(\u001b[0m\u001b[0mtgt_input_ids\u001b[0m\u001b[0;34m,\u001b[0m \u001b[0mmemory\u001b[0m\u001b[0;34m,\u001b[0m \u001b[0mmemory_key_padding_mask\u001b[0m\u001b[0;34m=\u001b[0m\u001b[0mmemory_key_padding_mask\u001b[0m\u001b[0;34m)\u001b[0m \u001b[0;31m# (bs, dec_seq_len, embeded_size)\u001b[0m\u001b[0;34m\u001b[0m\u001b[0;34m\u001b[0m\u001b[0m\n",
      "\u001b[0;32m/usr/local/lib/python3.6/dist-packages/torch/nn/modules/module.py\u001b[0m in \u001b[0;36m__call__\u001b[0;34m(self, *input, **kwargs)\u001b[0m\n\u001b[1;32m    539\u001b[0m             \u001b[0mresult\u001b[0m \u001b[0;34m=\u001b[0m \u001b[0mself\u001b[0m\u001b[0;34m.\u001b[0m\u001b[0m_slow_forward\u001b[0m\u001b[0;34m(\u001b[0m\u001b[0;34m*\u001b[0m\u001b[0minput\u001b[0m\u001b[0;34m,\u001b[0m \u001b[0;34m**\u001b[0m\u001b[0mkwargs\u001b[0m\u001b[0;34m)\u001b[0m\u001b[0;34m\u001b[0m\u001b[0;34m\u001b[0m\u001b[0m\n\u001b[1;32m    540\u001b[0m         \u001b[0;32melse\u001b[0m\u001b[0;34m:\u001b[0m\u001b[0;34m\u001b[0m\u001b[0;34m\u001b[0m\u001b[0m\n\u001b[0;32m--> 541\u001b[0;31m             \u001b[0mresult\u001b[0m \u001b[0;34m=\u001b[0m \u001b[0mself\u001b[0m\u001b[0;34m.\u001b[0m\u001b[0mforward\u001b[0m\u001b[0;34m(\u001b[0m\u001b[0;34m*\u001b[0m\u001b[0minput\u001b[0m\u001b[0;34m,\u001b[0m \u001b[0;34m**\u001b[0m\u001b[0mkwargs\u001b[0m\u001b[0;34m)\u001b[0m\u001b[0;34m\u001b[0m\u001b[0;34m\u001b[0m\u001b[0m\n\u001b[0m\u001b[1;32m    542\u001b[0m         \u001b[0;32mfor\u001b[0m \u001b[0mhook\u001b[0m \u001b[0;32min\u001b[0m \u001b[0mself\u001b[0m\u001b[0;34m.\u001b[0m\u001b[0m_forward_hooks\u001b[0m\u001b[0;34m.\u001b[0m\u001b[0mvalues\u001b[0m\u001b[0;34m(\u001b[0m\u001b[0;34m)\u001b[0m\u001b[0;34m:\u001b[0m\u001b[0;34m\u001b[0m\u001b[0;34m\u001b[0m\u001b[0m\n\u001b[1;32m    543\u001b[0m             \u001b[0mhook_result\u001b[0m \u001b[0;34m=\u001b[0m \u001b[0mhook\u001b[0m\u001b[0;34m(\u001b[0m\u001b[0mself\u001b[0m\u001b[0;34m,\u001b[0m \u001b[0minput\u001b[0m\u001b[0;34m,\u001b[0m \u001b[0mresult\u001b[0m\u001b[0;34m)\u001b[0m\u001b[0;34m\u001b[0m\u001b[0;34m\u001b[0m\u001b[0m\n",
      "\u001b[0;32m/content/gdrive/My Drive/Colab_Codes/nmt_small/nmt_small/models/bert2gpt2.py\u001b[0m in \u001b[0;36mforward\u001b[0;34m(self, src_input_ids, src_attention_mask)\u001b[0m\n\u001b[1;32m     36\u001b[0m         \u001b[0mreturns\u001b[0m\u001b[0;34m:\u001b[0m \u001b[0;34m(\u001b[0m\u001b[0mbs\u001b[0m\u001b[0;34m,\u001b[0m \u001b[0menc_seq_len\u001b[0m\u001b[0;34m,\u001b[0m \u001b[0membed_size\u001b[0m\u001b[0;34m)\u001b[0m\u001b[0;34m\u001b[0m\u001b[0;34m\u001b[0m\u001b[0m\n\u001b[1;32m     37\u001b[0m         '''\n\u001b[0;32m---> 38\u001b[0;31m         \u001b[0;32mreturn\u001b[0m \u001b[0mself\u001b[0m\u001b[0;34m.\u001b[0m\u001b[0mbert\u001b[0m\u001b[0;34m(\u001b[0m\u001b[0msrc_input_ids\u001b[0m\u001b[0;34m,\u001b[0m \u001b[0mattention_mask\u001b[0m\u001b[0;34m=\u001b[0m\u001b[0msrc_attention_mask\u001b[0m\u001b[0;34m)\u001b[0m\u001b[0;34m[\u001b[0m\u001b[0;36m0\u001b[0m\u001b[0;34m]\u001b[0m\u001b[0;34m\u001b[0m\u001b[0;34m\u001b[0m\u001b[0m\n\u001b[0m\u001b[1;32m     39\u001b[0m \u001b[0;34m\u001b[0m\u001b[0m\n\u001b[1;32m     40\u001b[0m \u001b[0;31m# Cell\u001b[0m\u001b[0;34m\u001b[0m\u001b[0;34m\u001b[0m\u001b[0;34m\u001b[0m\u001b[0m\n",
      "\u001b[0;32m/usr/local/lib/python3.6/dist-packages/torch/nn/modules/module.py\u001b[0m in \u001b[0;36m__call__\u001b[0;34m(self, *input, **kwargs)\u001b[0m\n\u001b[1;32m    539\u001b[0m             \u001b[0mresult\u001b[0m \u001b[0;34m=\u001b[0m \u001b[0mself\u001b[0m\u001b[0;34m.\u001b[0m\u001b[0m_slow_forward\u001b[0m\u001b[0;34m(\u001b[0m\u001b[0;34m*\u001b[0m\u001b[0minput\u001b[0m\u001b[0;34m,\u001b[0m \u001b[0;34m**\u001b[0m\u001b[0mkwargs\u001b[0m\u001b[0;34m)\u001b[0m\u001b[0;34m\u001b[0m\u001b[0;34m\u001b[0m\u001b[0m\n\u001b[1;32m    540\u001b[0m         \u001b[0;32melse\u001b[0m\u001b[0;34m:\u001b[0m\u001b[0;34m\u001b[0m\u001b[0;34m\u001b[0m\u001b[0m\n\u001b[0;32m--> 541\u001b[0;31m             \u001b[0mresult\u001b[0m \u001b[0;34m=\u001b[0m \u001b[0mself\u001b[0m\u001b[0;34m.\u001b[0m\u001b[0mforward\u001b[0m\u001b[0;34m(\u001b[0m\u001b[0;34m*\u001b[0m\u001b[0minput\u001b[0m\u001b[0;34m,\u001b[0m \u001b[0;34m**\u001b[0m\u001b[0mkwargs\u001b[0m\u001b[0;34m)\u001b[0m\u001b[0;34m\u001b[0m\u001b[0;34m\u001b[0m\u001b[0m\n\u001b[0m\u001b[1;32m    542\u001b[0m         \u001b[0;32mfor\u001b[0m \u001b[0mhook\u001b[0m \u001b[0;32min\u001b[0m \u001b[0mself\u001b[0m\u001b[0;34m.\u001b[0m\u001b[0m_forward_hooks\u001b[0m\u001b[0;34m.\u001b[0m\u001b[0mvalues\u001b[0m\u001b[0;34m(\u001b[0m\u001b[0;34m)\u001b[0m\u001b[0;34m:\u001b[0m\u001b[0;34m\u001b[0m\u001b[0;34m\u001b[0m\u001b[0m\n\u001b[1;32m    543\u001b[0m             \u001b[0mhook_result\u001b[0m \u001b[0;34m=\u001b[0m \u001b[0mhook\u001b[0m\u001b[0;34m(\u001b[0m\u001b[0mself\u001b[0m\u001b[0;34m,\u001b[0m \u001b[0minput\u001b[0m\u001b[0;34m,\u001b[0m \u001b[0mresult\u001b[0m\u001b[0;34m)\u001b[0m\u001b[0;34m\u001b[0m\u001b[0;34m\u001b[0m\u001b[0m\n",
      "\u001b[0;32m/usr/local/lib/python3.6/dist-packages/transformers/modeling_bert.py\u001b[0m in \u001b[0;36mforward\u001b[0;34m(self, input_ids, attention_mask, token_type_ids, position_ids, head_mask, inputs_embeds, encoder_hidden_states, encoder_attention_mask)\u001b[0m\n\u001b[1;32m    797\u001b[0m \u001b[0;34m\u001b[0m\u001b[0m\n\u001b[1;32m    798\u001b[0m         embedding_output = self.embeddings(\n\u001b[0;32m--> 799\u001b[0;31m             \u001b[0minput_ids\u001b[0m\u001b[0;34m=\u001b[0m\u001b[0minput_ids\u001b[0m\u001b[0;34m,\u001b[0m \u001b[0mposition_ids\u001b[0m\u001b[0;34m=\u001b[0m\u001b[0mposition_ids\u001b[0m\u001b[0;34m,\u001b[0m \u001b[0mtoken_type_ids\u001b[0m\u001b[0;34m=\u001b[0m\u001b[0mtoken_type_ids\u001b[0m\u001b[0;34m,\u001b[0m \u001b[0minputs_embeds\u001b[0m\u001b[0;34m=\u001b[0m\u001b[0minputs_embeds\u001b[0m\u001b[0;34m\u001b[0m\u001b[0;34m\u001b[0m\u001b[0m\n\u001b[0m\u001b[1;32m    800\u001b[0m         )\n\u001b[1;32m    801\u001b[0m         encoder_outputs = self.encoder(\n",
      "\u001b[0;32m/usr/local/lib/python3.6/dist-packages/torch/nn/modules/module.py\u001b[0m in \u001b[0;36m__call__\u001b[0;34m(self, *input, **kwargs)\u001b[0m\n\u001b[1;32m    539\u001b[0m             \u001b[0mresult\u001b[0m \u001b[0;34m=\u001b[0m \u001b[0mself\u001b[0m\u001b[0;34m.\u001b[0m\u001b[0m_slow_forward\u001b[0m\u001b[0;34m(\u001b[0m\u001b[0;34m*\u001b[0m\u001b[0minput\u001b[0m\u001b[0;34m,\u001b[0m \u001b[0;34m**\u001b[0m\u001b[0mkwargs\u001b[0m\u001b[0;34m)\u001b[0m\u001b[0;34m\u001b[0m\u001b[0;34m\u001b[0m\u001b[0m\n\u001b[1;32m    540\u001b[0m         \u001b[0;32melse\u001b[0m\u001b[0;34m:\u001b[0m\u001b[0;34m\u001b[0m\u001b[0;34m\u001b[0m\u001b[0m\n\u001b[0;32m--> 541\u001b[0;31m             \u001b[0mresult\u001b[0m \u001b[0;34m=\u001b[0m \u001b[0mself\u001b[0m\u001b[0;34m.\u001b[0m\u001b[0mforward\u001b[0m\u001b[0;34m(\u001b[0m\u001b[0;34m*\u001b[0m\u001b[0minput\u001b[0m\u001b[0;34m,\u001b[0m \u001b[0;34m**\u001b[0m\u001b[0mkwargs\u001b[0m\u001b[0;34m)\u001b[0m\u001b[0;34m\u001b[0m\u001b[0;34m\u001b[0m\u001b[0m\n\u001b[0m\u001b[1;32m    542\u001b[0m         \u001b[0;32mfor\u001b[0m \u001b[0mhook\u001b[0m \u001b[0;32min\u001b[0m \u001b[0mself\u001b[0m\u001b[0;34m.\u001b[0m\u001b[0m_forward_hooks\u001b[0m\u001b[0;34m.\u001b[0m\u001b[0mvalues\u001b[0m\u001b[0;34m(\u001b[0m\u001b[0;34m)\u001b[0m\u001b[0;34m:\u001b[0m\u001b[0;34m\u001b[0m\u001b[0;34m\u001b[0m\u001b[0m\n\u001b[1;32m    543\u001b[0m             \u001b[0mhook_result\u001b[0m \u001b[0;34m=\u001b[0m \u001b[0mhook\u001b[0m\u001b[0;34m(\u001b[0m\u001b[0mself\u001b[0m\u001b[0;34m,\u001b[0m \u001b[0minput\u001b[0m\u001b[0;34m,\u001b[0m \u001b[0mresult\u001b[0m\u001b[0;34m)\u001b[0m\u001b[0;34m\u001b[0m\u001b[0;34m\u001b[0m\u001b[0m\n",
      "\u001b[0;32m/usr/local/lib/python3.6/dist-packages/transformers/modeling_bert.py\u001b[0m in \u001b[0;36mforward\u001b[0;34m(self, input_ids, token_type_ids, position_ids, inputs_embeds)\u001b[0m\n\u001b[1;32m    187\u001b[0m \u001b[0;34m\u001b[0m\u001b[0m\n\u001b[1;32m    188\u001b[0m         \u001b[0;32mif\u001b[0m \u001b[0minputs_embeds\u001b[0m \u001b[0;32mis\u001b[0m \u001b[0;32mNone\u001b[0m\u001b[0;34m:\u001b[0m\u001b[0;34m\u001b[0m\u001b[0;34m\u001b[0m\u001b[0m\n\u001b[0;32m--> 189\u001b[0;31m             \u001b[0minputs_embeds\u001b[0m \u001b[0;34m=\u001b[0m \u001b[0mself\u001b[0m\u001b[0;34m.\u001b[0m\u001b[0mword_embeddings\u001b[0m\u001b[0;34m(\u001b[0m\u001b[0minput_ids\u001b[0m\u001b[0;34m)\u001b[0m\u001b[0;34m\u001b[0m\u001b[0;34m\u001b[0m\u001b[0m\n\u001b[0m\u001b[1;32m    190\u001b[0m         \u001b[0mposition_embeddings\u001b[0m \u001b[0;34m=\u001b[0m \u001b[0mself\u001b[0m\u001b[0;34m.\u001b[0m\u001b[0mposition_embeddings\u001b[0m\u001b[0;34m(\u001b[0m\u001b[0mposition_ids\u001b[0m\u001b[0;34m)\u001b[0m\u001b[0;34m\u001b[0m\u001b[0;34m\u001b[0m\u001b[0m\n\u001b[1;32m    191\u001b[0m         \u001b[0mtoken_type_embeddings\u001b[0m \u001b[0;34m=\u001b[0m \u001b[0mself\u001b[0m\u001b[0;34m.\u001b[0m\u001b[0mtoken_type_embeddings\u001b[0m\u001b[0;34m(\u001b[0m\u001b[0mtoken_type_ids\u001b[0m\u001b[0;34m)\u001b[0m\u001b[0;34m\u001b[0m\u001b[0;34m\u001b[0m\u001b[0m\n",
      "\u001b[0;32m/usr/local/lib/python3.6/dist-packages/torch/nn/modules/module.py\u001b[0m in \u001b[0;36m__call__\u001b[0;34m(self, *input, **kwargs)\u001b[0m\n\u001b[1;32m    539\u001b[0m             \u001b[0mresult\u001b[0m \u001b[0;34m=\u001b[0m \u001b[0mself\u001b[0m\u001b[0;34m.\u001b[0m\u001b[0m_slow_forward\u001b[0m\u001b[0;34m(\u001b[0m\u001b[0;34m*\u001b[0m\u001b[0minput\u001b[0m\u001b[0;34m,\u001b[0m \u001b[0;34m**\u001b[0m\u001b[0mkwargs\u001b[0m\u001b[0;34m)\u001b[0m\u001b[0;34m\u001b[0m\u001b[0;34m\u001b[0m\u001b[0m\n\u001b[1;32m    540\u001b[0m         \u001b[0;32melse\u001b[0m\u001b[0;34m:\u001b[0m\u001b[0;34m\u001b[0m\u001b[0;34m\u001b[0m\u001b[0m\n\u001b[0;32m--> 541\u001b[0;31m             \u001b[0mresult\u001b[0m \u001b[0;34m=\u001b[0m \u001b[0mself\u001b[0m\u001b[0;34m.\u001b[0m\u001b[0mforward\u001b[0m\u001b[0;34m(\u001b[0m\u001b[0;34m*\u001b[0m\u001b[0minput\u001b[0m\u001b[0;34m,\u001b[0m \u001b[0;34m**\u001b[0m\u001b[0mkwargs\u001b[0m\u001b[0;34m)\u001b[0m\u001b[0;34m\u001b[0m\u001b[0;34m\u001b[0m\u001b[0m\n\u001b[0m\u001b[1;32m    542\u001b[0m         \u001b[0;32mfor\u001b[0m \u001b[0mhook\u001b[0m \u001b[0;32min\u001b[0m \u001b[0mself\u001b[0m\u001b[0;34m.\u001b[0m\u001b[0m_forward_hooks\u001b[0m\u001b[0;34m.\u001b[0m\u001b[0mvalues\u001b[0m\u001b[0;34m(\u001b[0m\u001b[0;34m)\u001b[0m\u001b[0;34m:\u001b[0m\u001b[0;34m\u001b[0m\u001b[0;34m\u001b[0m\u001b[0m\n\u001b[1;32m    543\u001b[0m             \u001b[0mhook_result\u001b[0m \u001b[0;34m=\u001b[0m \u001b[0mhook\u001b[0m\u001b[0;34m(\u001b[0m\u001b[0mself\u001b[0m\u001b[0;34m,\u001b[0m \u001b[0minput\u001b[0m\u001b[0;34m,\u001b[0m \u001b[0mresult\u001b[0m\u001b[0;34m)\u001b[0m\u001b[0;34m\u001b[0m\u001b[0;34m\u001b[0m\u001b[0m\n",
      "\u001b[0;32m/usr/local/lib/python3.6/dist-packages/torch/nn/modules/sparse.py\u001b[0m in \u001b[0;36mforward\u001b[0;34m(self, input)\u001b[0m\n\u001b[1;32m    112\u001b[0m         return F.embedding(\n\u001b[1;32m    113\u001b[0m             \u001b[0minput\u001b[0m\u001b[0;34m,\u001b[0m \u001b[0mself\u001b[0m\u001b[0;34m.\u001b[0m\u001b[0mweight\u001b[0m\u001b[0;34m,\u001b[0m \u001b[0mself\u001b[0m\u001b[0;34m.\u001b[0m\u001b[0mpadding_idx\u001b[0m\u001b[0;34m,\u001b[0m \u001b[0mself\u001b[0m\u001b[0;34m.\u001b[0m\u001b[0mmax_norm\u001b[0m\u001b[0;34m,\u001b[0m\u001b[0;34m\u001b[0m\u001b[0;34m\u001b[0m\u001b[0m\n\u001b[0;32m--> 114\u001b[0;31m             self.norm_type, self.scale_grad_by_freq, self.sparse)\n\u001b[0m\u001b[1;32m    115\u001b[0m \u001b[0;34m\u001b[0m\u001b[0m\n\u001b[1;32m    116\u001b[0m     \u001b[0;32mdef\u001b[0m \u001b[0mextra_repr\u001b[0m\u001b[0;34m(\u001b[0m\u001b[0mself\u001b[0m\u001b[0;34m)\u001b[0m\u001b[0;34m:\u001b[0m\u001b[0;34m\u001b[0m\u001b[0;34m\u001b[0m\u001b[0m\n",
      "\u001b[0;32m/usr/local/lib/python3.6/dist-packages/torch/nn/functional.py\u001b[0m in \u001b[0;36membedding\u001b[0;34m(input, weight, padding_idx, max_norm, norm_type, scale_grad_by_freq, sparse)\u001b[0m\n\u001b[1;32m   1482\u001b[0m         \u001b[0;31m# remove once script supports set_grad_enabled\u001b[0m\u001b[0;34m\u001b[0m\u001b[0;34m\u001b[0m\u001b[0;34m\u001b[0m\u001b[0m\n\u001b[1;32m   1483\u001b[0m         \u001b[0m_no_grad_embedding_renorm_\u001b[0m\u001b[0;34m(\u001b[0m\u001b[0mweight\u001b[0m\u001b[0;34m,\u001b[0m \u001b[0minput\u001b[0m\u001b[0;34m,\u001b[0m \u001b[0mmax_norm\u001b[0m\u001b[0;34m,\u001b[0m \u001b[0mnorm_type\u001b[0m\u001b[0;34m)\u001b[0m\u001b[0;34m\u001b[0m\u001b[0;34m\u001b[0m\u001b[0m\n\u001b[0;32m-> 1484\u001b[0;31m     \u001b[0;32mreturn\u001b[0m \u001b[0mtorch\u001b[0m\u001b[0;34m.\u001b[0m\u001b[0membedding\u001b[0m\u001b[0;34m(\u001b[0m\u001b[0mweight\u001b[0m\u001b[0;34m,\u001b[0m \u001b[0minput\u001b[0m\u001b[0;34m,\u001b[0m \u001b[0mpadding_idx\u001b[0m\u001b[0;34m,\u001b[0m \u001b[0mscale_grad_by_freq\u001b[0m\u001b[0;34m,\u001b[0m \u001b[0msparse\u001b[0m\u001b[0;34m)\u001b[0m\u001b[0;34m\u001b[0m\u001b[0;34m\u001b[0m\u001b[0m\n\u001b[0m\u001b[1;32m   1485\u001b[0m \u001b[0;34m\u001b[0m\u001b[0m\n\u001b[1;32m   1486\u001b[0m \u001b[0;34m\u001b[0m\u001b[0m\n",
      "\u001b[0;31mRuntimeError\u001b[0m: Expected object of device type cuda but got device type cpu for argument #3 'index' in call to _th_index_select"
     ]
    }
   ],
   "source": [
    "model.summary(torch.ones((16, enc_seq_len)).long(), torch.ones((16, dec_seq_len)).long())"
   ]
  },
  {
   "cell_type": "markdown",
   "metadata": {},
   "source": [
    "## Learner"
   ]
  },
  {
   "cell_type": "code",
   "execution_count": null,
   "metadata": {},
   "outputs": [],
   "source": [
    "dls = small_dss.dataloaders(bs=64)\n",
    "# dls = dss.dataloaders(bs=64)\n",
    "learn = Learner(dls, \n",
    "                model, \n",
    "                loss_func=CrossEntropyLossFlat(ignore_index=dec_tokenizer.pad_token_id), \n",
    "                opt_func=Adam,\n",
    "                metrics=[accuracy, Perplexity()],\n",
    "               ).to_fp16()"
   ]
  },
  {
   "cell_type": "code",
   "execution_count": null,
   "metadata": {},
   "outputs": [
    {
     "data": {
      "text/plain": [
       "Bert2GPT2 (Input shape: ['64 x 50', '64 x 40'])\n",
       "================================================================\n",
       "Layer (type)         Output Shape         Param #    Trainable \n",
       "================================================================\n",
       "Embedding            64 x 50 x 768        16,226,304 False     \n",
       "________________________________________________________________\n",
       "Embedding            64 x 50 x 768        393,216    False     \n",
       "________________________________________________________________\n",
       "Embedding            64 x 50 x 768        1,536      False     \n",
       "________________________________________________________________\n",
       "LayerNorm            64 x 50 x 768        1,536      False     \n",
       "________________________________________________________________\n",
       "Dropout              64 x 50 x 768        0          False     \n",
       "________________________________________________________________\n",
       "Linear               64 x 50 x 768        590,592    False     \n",
       "________________________________________________________________\n",
       "Linear               64 x 50 x 768        590,592    False     \n",
       "________________________________________________________________\n",
       "Linear               64 x 50 x 768        590,592    False     \n",
       "________________________________________________________________\n",
       "Dropout              64 x 12 x 50 x 50    0          False     \n",
       "________________________________________________________________\n",
       "Linear               64 x 50 x 768        590,592    False     \n",
       "________________________________________________________________\n",
       "LayerNorm            64 x 50 x 768        1,536      False     \n",
       "________________________________________________________________\n",
       "Dropout              64 x 50 x 768        0          False     \n",
       "________________________________________________________________\n",
       "Linear               64 x 50 x 3072       2,362,368  False     \n",
       "________________________________________________________________\n",
       "Linear               64 x 50 x 768        2,360,064  False     \n",
       "________________________________________________________________\n",
       "LayerNorm            64 x 50 x 768        1,536      False     \n",
       "________________________________________________________________\n",
       "Dropout              64 x 50 x 768        0          False     \n",
       "________________________________________________________________\n",
       "Linear               64 x 50 x 768        590,592    False     \n",
       "________________________________________________________________\n",
       "Linear               64 x 50 x 768        590,592    False     \n",
       "________________________________________________________________\n",
       "Linear               64 x 50 x 768        590,592    False     \n",
       "________________________________________________________________\n",
       "Dropout              64 x 12 x 50 x 50    0          False     \n",
       "________________________________________________________________\n",
       "Linear               64 x 50 x 768        590,592    False     \n",
       "________________________________________________________________\n",
       "LayerNorm            64 x 50 x 768        1,536      False     \n",
       "________________________________________________________________\n",
       "Dropout              64 x 50 x 768        0          False     \n",
       "________________________________________________________________\n",
       "Linear               64 x 50 x 3072       2,362,368  False     \n",
       "________________________________________________________________\n",
       "Linear               64 x 50 x 768        2,360,064  False     \n",
       "________________________________________________________________\n",
       "LayerNorm            64 x 50 x 768        1,536      False     \n",
       "________________________________________________________________\n",
       "Dropout              64 x 50 x 768        0          False     \n",
       "________________________________________________________________\n",
       "Linear               64 x 50 x 768        590,592    False     \n",
       "________________________________________________________________\n",
       "Linear               64 x 50 x 768        590,592    False     \n",
       "________________________________________________________________\n",
       "Linear               64 x 50 x 768        590,592    False     \n",
       "________________________________________________________________\n",
       "Dropout              64 x 12 x 50 x 50    0          False     \n",
       "________________________________________________________________\n",
       "Linear               64 x 50 x 768        590,592    False     \n",
       "________________________________________________________________\n",
       "LayerNorm            64 x 50 x 768        1,536      False     \n",
       "________________________________________________________________\n",
       "Dropout              64 x 50 x 768        0          False     \n",
       "________________________________________________________________\n",
       "Linear               64 x 50 x 3072       2,362,368  False     \n",
       "________________________________________________________________\n",
       "Linear               64 x 50 x 768        2,360,064  False     \n",
       "________________________________________________________________\n",
       "LayerNorm            64 x 50 x 768        1,536      False     \n",
       "________________________________________________________________\n",
       "Dropout              64 x 50 x 768        0          False     \n",
       "________________________________________________________________\n",
       "Linear               64 x 50 x 768        590,592    False     \n",
       "________________________________________________________________\n",
       "Linear               64 x 50 x 768        590,592    False     \n",
       "________________________________________________________________\n",
       "Linear               64 x 50 x 768        590,592    False     \n",
       "________________________________________________________________\n",
       "Dropout              64 x 12 x 50 x 50    0          False     \n",
       "________________________________________________________________\n",
       "Linear               64 x 50 x 768        590,592    False     \n",
       "________________________________________________________________\n",
       "LayerNorm            64 x 50 x 768        1,536      False     \n",
       "________________________________________________________________\n",
       "Dropout              64 x 50 x 768        0          False     \n",
       "________________________________________________________________\n",
       "Linear               64 x 50 x 3072       2,362,368  False     \n",
       "________________________________________________________________\n",
       "Linear               64 x 50 x 768        2,360,064  False     \n",
       "________________________________________________________________\n",
       "LayerNorm            64 x 50 x 768        1,536      False     \n",
       "________________________________________________________________\n",
       "Dropout              64 x 50 x 768        0          False     \n",
       "________________________________________________________________\n",
       "Linear               64 x 50 x 768        590,592    False     \n",
       "________________________________________________________________\n",
       "Linear               64 x 50 x 768        590,592    False     \n",
       "________________________________________________________________\n",
       "Linear               64 x 50 x 768        590,592    False     \n",
       "________________________________________________________________\n",
       "Dropout              64 x 12 x 50 x 50    0          False     \n",
       "________________________________________________________________\n",
       "Linear               64 x 50 x 768        590,592    False     \n",
       "________________________________________________________________\n",
       "LayerNorm            64 x 50 x 768        1,536      False     \n",
       "________________________________________________________________\n",
       "Dropout              64 x 50 x 768        0          False     \n",
       "________________________________________________________________\n",
       "Linear               64 x 50 x 3072       2,362,368  False     \n",
       "________________________________________________________________\n",
       "Linear               64 x 50 x 768        2,360,064  False     \n",
       "________________________________________________________________\n",
       "LayerNorm            64 x 50 x 768        1,536      False     \n",
       "________________________________________________________________\n",
       "Dropout              64 x 50 x 768        0          False     \n",
       "________________________________________________________________\n",
       "Linear               64 x 50 x 768        590,592    False     \n",
       "________________________________________________________________\n",
       "Linear               64 x 50 x 768        590,592    False     \n",
       "________________________________________________________________\n",
       "Linear               64 x 50 x 768        590,592    False     \n",
       "________________________________________________________________\n",
       "Dropout              64 x 12 x 50 x 50    0          False     \n",
       "________________________________________________________________\n",
       "Linear               64 x 50 x 768        590,592    False     \n",
       "________________________________________________________________\n",
       "LayerNorm            64 x 50 x 768        1,536      False     \n",
       "________________________________________________________________\n",
       "Dropout              64 x 50 x 768        0          False     \n",
       "________________________________________________________________\n",
       "Linear               64 x 50 x 3072       2,362,368  False     \n",
       "________________________________________________________________\n",
       "Linear               64 x 50 x 768        2,360,064  False     \n",
       "________________________________________________________________\n",
       "LayerNorm            64 x 50 x 768        1,536      False     \n",
       "________________________________________________________________\n",
       "Dropout              64 x 50 x 768        0          False     \n",
       "________________________________________________________________\n",
       "Linear               64 x 50 x 768        590,592    False     \n",
       "________________________________________________________________\n",
       "Linear               64 x 50 x 768        590,592    False     \n",
       "________________________________________________________________\n",
       "Linear               64 x 50 x 768        590,592    False     \n",
       "________________________________________________________________\n",
       "Dropout              64 x 12 x 50 x 50    0          False     \n",
       "________________________________________________________________\n",
       "Linear               64 x 50 x 768        590,592    False     \n",
       "________________________________________________________________\n",
       "LayerNorm            64 x 50 x 768        1,536      False     \n",
       "________________________________________________________________\n",
       "Dropout              64 x 50 x 768        0          False     \n",
       "________________________________________________________________\n",
       "Linear               64 x 50 x 3072       2,362,368  False     \n",
       "________________________________________________________________\n",
       "Linear               64 x 50 x 768        2,360,064  False     \n",
       "________________________________________________________________\n",
       "LayerNorm            64 x 50 x 768        1,536      False     \n",
       "________________________________________________________________\n",
       "Dropout              64 x 50 x 768        0          False     \n",
       "________________________________________________________________\n",
       "Linear               64 x 50 x 768        590,592    False     \n",
       "________________________________________________________________\n",
       "Linear               64 x 50 x 768        590,592    False     \n",
       "________________________________________________________________\n",
       "Linear               64 x 50 x 768        590,592    False     \n",
       "________________________________________________________________\n",
       "Dropout              64 x 12 x 50 x 50    0          False     \n",
       "________________________________________________________________\n",
       "Linear               64 x 50 x 768        590,592    False     \n",
       "________________________________________________________________\n",
       "LayerNorm            64 x 50 x 768        1,536      False     \n",
       "________________________________________________________________\n",
       "Dropout              64 x 50 x 768        0          False     \n",
       "________________________________________________________________\n",
       "Linear               64 x 50 x 3072       2,362,368  False     \n",
       "________________________________________________________________\n",
       "Linear               64 x 50 x 768        2,360,064  False     \n",
       "________________________________________________________________\n",
       "LayerNorm            64 x 50 x 768        1,536      False     \n",
       "________________________________________________________________\n",
       "Dropout              64 x 50 x 768        0          False     \n",
       "________________________________________________________________\n",
       "Linear               64 x 50 x 768        590,592    False     \n",
       "________________________________________________________________\n",
       "Linear               64 x 50 x 768        590,592    False     \n",
       "________________________________________________________________\n",
       "Linear               64 x 50 x 768        590,592    False     \n",
       "________________________________________________________________\n",
       "Dropout              64 x 12 x 50 x 50    0          False     \n",
       "________________________________________________________________\n",
       "Linear               64 x 50 x 768        590,592    False     \n",
       "________________________________________________________________\n",
       "LayerNorm            64 x 50 x 768        1,536      False     \n",
       "________________________________________________________________\n",
       "Dropout              64 x 50 x 768        0          False     \n",
       "________________________________________________________________\n",
       "Linear               64 x 50 x 3072       2,362,368  False     \n",
       "________________________________________________________________\n",
       "Linear               64 x 50 x 768        2,360,064  False     \n",
       "________________________________________________________________\n",
       "LayerNorm            64 x 50 x 768        1,536      False     \n",
       "________________________________________________________________\n",
       "Dropout              64 x 50 x 768        0          False     \n",
       "________________________________________________________________\n",
       "Linear               64 x 50 x 768        590,592    False     \n",
       "________________________________________________________________\n",
       "Linear               64 x 50 x 768        590,592    False     \n",
       "________________________________________________________________\n",
       "Linear               64 x 50 x 768        590,592    False     \n",
       "________________________________________________________________\n",
       "Dropout              64 x 12 x 50 x 50    0          False     \n",
       "________________________________________________________________\n",
       "Linear               64 x 50 x 768        590,592    False     \n",
       "________________________________________________________________\n",
       "LayerNorm            64 x 50 x 768        1,536      False     \n",
       "________________________________________________________________\n",
       "Dropout              64 x 50 x 768        0          False     \n",
       "________________________________________________________________\n",
       "Linear               64 x 50 x 3072       2,362,368  False     \n",
       "________________________________________________________________\n",
       "Linear               64 x 50 x 768        2,360,064  False     \n",
       "________________________________________________________________\n",
       "LayerNorm            64 x 50 x 768        1,536      False     \n",
       "________________________________________________________________\n",
       "Dropout              64 x 50 x 768        0          False     \n",
       "________________________________________________________________\n",
       "Linear               64 x 50 x 768        590,592    False     \n",
       "________________________________________________________________\n",
       "Linear               64 x 50 x 768        590,592    False     \n",
       "________________________________________________________________\n",
       "Linear               64 x 50 x 768        590,592    False     \n",
       "________________________________________________________________\n",
       "Dropout              64 x 12 x 50 x 50    0          False     \n",
       "________________________________________________________________\n",
       "Linear               64 x 50 x 768        590,592    False     \n",
       "________________________________________________________________\n",
       "LayerNorm            64 x 50 x 768        1,536      False     \n",
       "________________________________________________________________\n",
       "Dropout              64 x 50 x 768        0          False     \n",
       "________________________________________________________________\n",
       "Linear               64 x 50 x 3072       2,362,368  False     \n",
       "________________________________________________________________\n",
       "Linear               64 x 50 x 768        2,360,064  False     \n",
       "________________________________________________________________\n",
       "LayerNorm            64 x 50 x 768        1,536      False     \n",
       "________________________________________________________________\n",
       "Dropout              64 x 50 x 768        0          False     \n",
       "________________________________________________________________\n",
       "Linear               64 x 50 x 768        590,592    False     \n",
       "________________________________________________________________\n",
       "Linear               64 x 50 x 768        590,592    False     \n",
       "________________________________________________________________\n",
       "Linear               64 x 50 x 768        590,592    False     \n",
       "________________________________________________________________\n",
       "Dropout              64 x 12 x 50 x 50    0          False     \n",
       "________________________________________________________________\n",
       "Linear               64 x 50 x 768        590,592    False     \n",
       "________________________________________________________________\n",
       "LayerNorm            64 x 50 x 768        1,536      False     \n",
       "________________________________________________________________\n",
       "Dropout              64 x 50 x 768        0          False     \n",
       "________________________________________________________________\n",
       "Linear               64 x 50 x 3072       2,362,368  False     \n",
       "________________________________________________________________\n",
       "Linear               64 x 50 x 768        2,360,064  False     \n",
       "________________________________________________________________\n",
       "LayerNorm            64 x 50 x 768        1,536      False     \n",
       "________________________________________________________________\n",
       "Dropout              64 x 50 x 768        0          False     \n",
       "________________________________________________________________\n",
       "Linear               64 x 768             590,592    True      \n",
       "________________________________________________________________\n",
       "Tanh                 64 x 768             0          False     \n",
       "________________________________________________________________\n",
       "Embedding            64 x 40 x 768        38,598,912 False     \n",
       "________________________________________________________________\n",
       "Embedding            64 x 40 x 768        786,432    False     \n",
       "________________________________________________________________\n",
       "Dropout              64 x 40 x 768        0          False     \n",
       "________________________________________________________________\n",
       "LayerNorm            64 x 40 x 768        1,536      False     \n",
       "________________________________________________________________\n",
       "Conv1D               64 x 40 x 2304       1,771,776  False     \n",
       "________________________________________________________________\n",
       "Conv1D               64 x 40 x 768        590,592    False     \n",
       "________________________________________________________________\n",
       "Dropout              64 x 12 x 40 x 40    0          False     \n",
       "________________________________________________________________\n",
       "Dropout              64 x 40 x 768        0          False     \n",
       "________________________________________________________________\n",
       "LayerNorm            64 x 40 x 768        1,536      False     \n",
       "________________________________________________________________\n",
       "Conv1D               64 x 40 x 3072       2,362,368  False     \n",
       "________________________________________________________________\n",
       "Conv1D               64 x 40 x 768        2,360,064  False     \n",
       "________________________________________________________________\n",
       "Dropout              64 x 40 x 768        0          False     \n",
       "________________________________________________________________\n",
       "LayerNorm            64 x 40 x 768        1,536      False     \n",
       "________________________________________________________________\n",
       "Conv1D               64 x 40 x 2304       1,771,776  False     \n",
       "________________________________________________________________\n",
       "Conv1D               64 x 40 x 768        590,592    False     \n",
       "________________________________________________________________\n",
       "Dropout              64 x 12 x 40 x 40    0          False     \n",
       "________________________________________________________________\n",
       "Dropout              64 x 40 x 768        0          False     \n",
       "________________________________________________________________\n",
       "LayerNorm            64 x 40 x 768        1,536      False     \n",
       "________________________________________________________________\n",
       "Conv1D               64 x 40 x 3072       2,362,368  False     \n",
       "________________________________________________________________\n",
       "Conv1D               64 x 40 x 768        2,360,064  False     \n",
       "________________________________________________________________\n",
       "Dropout              64 x 40 x 768        0          False     \n",
       "________________________________________________________________\n",
       "LayerNorm            64 x 40 x 768        1,536      False     \n",
       "________________________________________________________________\n",
       "Conv1D               64 x 40 x 2304       1,771,776  False     \n",
       "________________________________________________________________\n",
       "Conv1D               64 x 40 x 768        590,592    False     \n",
       "________________________________________________________________\n",
       "Dropout              64 x 12 x 40 x 40    0          False     \n",
       "________________________________________________________________\n",
       "Dropout              64 x 40 x 768        0          False     \n",
       "________________________________________________________________\n",
       "LayerNorm            64 x 40 x 768        1,536      False     \n",
       "________________________________________________________________\n",
       "Conv1D               64 x 40 x 3072       2,362,368  False     \n",
       "________________________________________________________________\n",
       "Conv1D               64 x 40 x 768        2,360,064  False     \n",
       "________________________________________________________________\n",
       "Dropout              64 x 40 x 768        0          False     \n",
       "________________________________________________________________\n",
       "LayerNorm            64 x 40 x 768        1,536      False     \n",
       "________________________________________________________________\n",
       "Conv1D               64 x 40 x 2304       1,771,776  False     \n",
       "________________________________________________________________\n",
       "Conv1D               64 x 40 x 768        590,592    False     \n",
       "________________________________________________________________\n",
       "Dropout              64 x 12 x 40 x 40    0          False     \n",
       "________________________________________________________________\n",
       "Dropout              64 x 40 x 768        0          False     \n",
       "________________________________________________________________\n",
       "LayerNorm            64 x 40 x 768        1,536      False     \n",
       "________________________________________________________________\n",
       "Conv1D               64 x 40 x 3072       2,362,368  False     \n",
       "________________________________________________________________\n",
       "Conv1D               64 x 40 x 768        2,360,064  False     \n",
       "________________________________________________________________\n",
       "Dropout              64 x 40 x 768        0          False     \n",
       "________________________________________________________________\n",
       "LayerNorm            64 x 40 x 768        1,536      False     \n",
       "________________________________________________________________\n",
       "Conv1D               64 x 40 x 2304       1,771,776  False     \n",
       "________________________________________________________________\n",
       "Conv1D               64 x 40 x 768        590,592    False     \n",
       "________________________________________________________________\n",
       "Dropout              64 x 12 x 40 x 40    0          False     \n",
       "________________________________________________________________\n",
       "Dropout              64 x 40 x 768        0          False     \n",
       "________________________________________________________________\n",
       "LayerNorm            64 x 40 x 768        1,536      False     \n",
       "________________________________________________________________\n",
       "Conv1D               64 x 40 x 3072       2,362,368  False     \n",
       "________________________________________________________________\n",
       "Conv1D               64 x 40 x 768        2,360,064  False     \n",
       "________________________________________________________________\n",
       "Dropout              64 x 40 x 768        0          False     \n",
       "________________________________________________________________\n",
       "LayerNorm            64 x 40 x 768        1,536      False     \n",
       "________________________________________________________________\n",
       "Conv1D               64 x 40 x 2304       1,771,776  False     \n",
       "________________________________________________________________\n",
       "Conv1D               64 x 40 x 768        590,592    False     \n",
       "________________________________________________________________\n",
       "Dropout              64 x 12 x 40 x 40    0          False     \n",
       "________________________________________________________________\n",
       "Dropout              64 x 40 x 768        0          False     \n",
       "________________________________________________________________\n",
       "LayerNorm            64 x 40 x 768        1,536      False     \n",
       "________________________________________________________________\n",
       "Conv1D               64 x 40 x 3072       2,362,368  False     \n",
       "________________________________________________________________\n",
       "Conv1D               64 x 40 x 768        2,360,064  False     \n",
       "________________________________________________________________\n",
       "Dropout              64 x 40 x 768        0          False     \n",
       "________________________________________________________________\n",
       "LayerNorm            64 x 40 x 768        1,536      False     \n",
       "________________________________________________________________\n",
       "Linear               64 x 40 x 50259      38,649,171 True      \n",
       "________________________________________________________________\n",
       "\n",
       "Total params: 222,830,931\n",
       "Total trainable params: 39,239,763\n",
       "Total non-trainable params: 183,591,168\n",
       "\n",
       "Optimizer used: <function Adam at 0x7f40cf790f28>\n",
       "Loss function: FlattenedLoss of CrossEntropyLoss()\n",
       "\n",
       "Model unfrozen\n",
       "\n",
       "Callbacks:\n",
       "  - ModelToHalf\n",
       "  - TrainEvalCallback\n",
       "  - Recorder\n",
       "  - ProgressCallback\n",
       "  - MixedPrecision"
      ]
     },
     "execution_count": null,
     "metadata": {},
     "output_type": "execute_result"
    }
   ],
   "source": [
    "learn.summary()"
   ]
  },
  {
   "cell_type": "code",
   "execution_count": null,
   "metadata": {},
   "outputs": [
    {
     "data": {
      "text/html": [
       "<table border=\"1\" class=\"dataframe\">\n",
       "  <thead>\n",
       "    <tr style=\"text-align: left;\">\n",
       "      <th>epoch</th>\n",
       "      <th>train_loss</th>\n",
       "      <th>valid_loss</th>\n",
       "      <th>accuracy</th>\n",
       "      <th>perplexity</th>\n",
       "      <th>time</th>\n",
       "    </tr>\n",
       "  </thead>\n",
       "  <tbody>\n",
       "    <tr>\n",
       "      <td>0</td>\n",
       "      <td>6.514963</td>\n",
       "      <td>5.392271</td>\n",
       "      <td>0.024853</td>\n",
       "      <td>219.701767</td>\n",
       "      <td>00:17</td>\n",
       "    </tr>\n",
       "  </tbody>\n",
       "</table>"
      ],
      "text/plain": [
       "<IPython.core.display.HTML object>"
      ]
     },
     "metadata": {},
     "output_type": "display_data"
    }
   ],
   "source": [
    "# freeze_to(decoder.layer_groups, -3) # only train cross attention and later layer\n",
    "learn.fit_one_cycle(1, 5e-4)"
   ]
  },
  {
   "cell_type": "markdown",
   "metadata": {},
   "source": [
    "## Find Hyperparams"
   ]
  },
  {
   "cell_type": "code",
   "execution_count": null,
   "metadata": {},
   "outputs": [],
   "source": [
    "class Objective():\n",
    "    def __init__(self):\n",
    "        self.dls = dss.dataloaders(bs=64)\n",
    "        self.model = get_model(default_device())\n",
    "        torch.save(self.model.state_dict(), './models/bert2gpt2_ori.pt')\n",
    "\n",
    "    def objective(self, trial):\n",
    "        lr = trial.suggest_loguniform('lr', 1e-4, 1e-2)\n",
    "        self.model.load_state_dict(torch.load('./models/bert2gpt2_ori.pt'))\n",
    "        learn = Learner(self.dls, \n",
    "                    self.model, \n",
    "                    loss_func=CrossEntropyLossFlat(ignore_index=dec_tokenizer.pad_token_id), \n",
    "                    opt_func=Adam,\n",
    "                    metrics=[accuracy, Perplexity()],\n",
    "                   ).to_fp16()\n",
    "        print(f'Current trial: {trial.number} lr: {lr}')\n",
    "        learn.fit_one_cycle(1, lr)\n",
    "        return learn.recorder.log[4]\n",
    "    \n",
    "    def clear(self):\n",
    "        self.model.to('cpu')\n",
    "        self.dls.cpu()"
   ]
  },
  {
   "cell_type": "code",
   "execution_count": null,
   "metadata": {},
   "outputs": [
    {
     "name": "stdout",
     "output_type": "stream",
     "text": [
      "Current trial: 0 lr: 0.00012952249097646494\n"
     ]
    },
    {
     "data": {
      "text/html": [
       "<table border=\"1\" class=\"dataframe\">\n",
       "  <thead>\n",
       "    <tr style=\"text-align: left;\">\n",
       "      <th>epoch</th>\n",
       "      <th>train_loss</th>\n",
       "      <th>valid_loss</th>\n",
       "      <th>accuracy</th>\n",
       "      <th>perplexity</th>\n",
       "      <th>time</th>\n",
       "    </tr>\n",
       "  </thead>\n",
       "  <tbody>\n",
       "    <tr>\n",
       "      <td>0</td>\n",
       "      <td>5.607232</td>\n",
       "      <td>5.438638</td>\n",
       "      <td>0.024859</td>\n",
       "      <td>230.128586</td>\n",
       "      <td>02:42</td>\n",
       "    </tr>\n",
       "  </tbody>\n",
       "</table>"
      ],
      "text/plain": [
       "<IPython.core.display.HTML object>"
      ]
     },
     "metadata": {},
     "output_type": "display_data"
    },
    {
     "name": "stderr",
     "output_type": "stream",
     "text": [
      "[I 2020-02-10 08:46:42,761] Finished trial#0 resulted in value: 230.1285858154297. Current best value is 230.1285858154297 with parameters: {'lr': 0.00012952249097646494}.\n"
     ]
    },
    {
     "name": "stdout",
     "output_type": "stream",
     "text": [
      "Current trial: 1 lr: 0.004542378374396687\n"
     ]
    },
    {
     "data": {
      "text/html": [
       "<table border=\"1\" class=\"dataframe\">\n",
       "  <thead>\n",
       "    <tr style=\"text-align: left;\">\n",
       "      <th>epoch</th>\n",
       "      <th>train_loss</th>\n",
       "      <th>valid_loss</th>\n",
       "      <th>accuracy</th>\n",
       "      <th>perplexity</th>\n",
       "      <th>time</th>\n",
       "    </tr>\n",
       "  </thead>\n",
       "  <tbody>\n",
       "    <tr>\n",
       "      <td>0</td>\n",
       "      <td>6.320603</td>\n",
       "      <td>5.823337</td>\n",
       "      <td>0.025000</td>\n",
       "      <td>338.098419</td>\n",
       "      <td>02:39</td>\n",
       "    </tr>\n",
       "  </tbody>\n",
       "</table>"
      ],
      "text/plain": [
       "<IPython.core.display.HTML object>"
      ]
     },
     "metadata": {},
     "output_type": "display_data"
    },
    {
     "name": "stderr",
     "output_type": "stream",
     "text": [
      "[I 2020-02-10 08:49:24,085] Finished trial#1 resulted in value: 338.0984191894531. Current best value is 230.1285858154297 with parameters: {'lr': 0.00012952249097646494}.\n"
     ]
    },
    {
     "name": "stdout",
     "output_type": "stream",
     "text": [
      "Current trial: 2 lr: 0.0011319755374436717\n"
     ]
    },
    {
     "data": {
      "text/html": [
       "<table border=\"1\" class=\"dataframe\">\n",
       "  <thead>\n",
       "    <tr style=\"text-align: left;\">\n",
       "      <th>epoch</th>\n",
       "      <th>train_loss</th>\n",
       "      <th>valid_loss</th>\n",
       "      <th>accuracy</th>\n",
       "      <th>perplexity</th>\n",
       "      <th>time</th>\n",
       "    </tr>\n",
       "  </thead>\n",
       "  <tbody>\n",
       "    <tr>\n",
       "      <td>0</td>\n",
       "      <td>5.880634</td>\n",
       "      <td>5.791884</td>\n",
       "      <td>0.025000</td>\n",
       "      <td>327.629669</td>\n",
       "      <td>02:42</td>\n",
       "    </tr>\n",
       "  </tbody>\n",
       "</table>"
      ],
      "text/plain": [
       "<IPython.core.display.HTML object>"
      ]
     },
     "metadata": {},
     "output_type": "display_data"
    },
    {
     "name": "stderr",
     "output_type": "stream",
     "text": [
      "[I 2020-02-10 08:52:08,650] Finished trial#2 resulted in value: 327.6296691894531. Current best value is 230.1285858154297 with parameters: {'lr': 0.00012952249097646494}.\n"
     ]
    },
    {
     "name": "stdout",
     "output_type": "stream",
     "text": [
      "Current trial: 3 lr: 0.00016100477132948145\n"
     ]
    },
    {
     "data": {
      "text/html": [
       "\n",
       "    <div>\n",
       "        <style>\n",
       "            /* Turns off some styling */\n",
       "            progress {\n",
       "                /* gets rid of default border in Firefox and Opera. */\n",
       "                border: none;\n",
       "                /* Needs to be in here for Safari polyfill so background images work as expected. */\n",
       "                background-size: auto;\n",
       "            }\n",
       "            .progress-bar-interrupted, .progress-bar-interrupted::-webkit-progress-bar {\n",
       "                background: #F44336;\n",
       "            }\n",
       "        </style>\n",
       "      <progress value='0' class='' max='1', style='width:300px; height:20px; vertical-align: middle;'></progress>\n",
       "      0.00% [0/1 00:00<00:00]\n",
       "    </div>\n",
       "    \n",
       "<table border=\"1\" class=\"dataframe\">\n",
       "  <thead>\n",
       "    <tr style=\"text-align: left;\">\n",
       "      <th>epoch</th>\n",
       "      <th>train_loss</th>\n",
       "      <th>valid_loss</th>\n",
       "      <th>accuracy</th>\n",
       "      <th>perplexity</th>\n",
       "      <th>time</th>\n",
       "    </tr>\n",
       "  </thead>\n",
       "  <tbody>\n",
       "  </tbody>\n",
       "</table><p>\n",
       "\n",
       "    <div>\n",
       "        <style>\n",
       "            /* Turns off some styling */\n",
       "            progress {\n",
       "                /* gets rid of default border in Firefox and Opera. */\n",
       "                border: none;\n",
       "                /* Needs to be in here for Safari polyfill so background images work as expected. */\n",
       "                background-size: auto;\n",
       "            }\n",
       "            .progress-bar-interrupted, .progress-bar-interrupted::-webkit-progress-bar {\n",
       "                background: #F44336;\n",
       "            }\n",
       "        </style>\n",
       "      <progress value='48' class='' max='265', style='width:300px; height:20px; vertical-align: middle;'></progress>\n",
       "      18.11% [48/265 00:26<02:01 9.2559]\n",
       "    </div>\n",
       "    "
      ],
      "text/plain": [
       "<IPython.core.display.HTML object>"
      ]
     },
     "metadata": {},
     "output_type": "display_data"
    }
   ],
   "source": [
    "study = optuna.create_study()\n",
    "objective = Objective()\n",
    "study.optimize(objective.objective, n_trials=10)"
   ]
  },
  {
   "cell_type": "markdown",
   "metadata": {},
   "source": [
    "## Bleu"
   ]
  },
  {
   "cell_type": "code",
   "execution_count": null,
   "metadata": {},
   "outputs": [],
   "source": [
    "generate_args = GenerateArgs(   \n",
    "    max_length=20,\n",
    "#     do_sample=True,\n",
    "    num_beams=3,\n",
    "    temperature=1.0,\n",
    "    repetition_penalty=1,\n",
    "    length_penalty=1.0,\n",
    ")\n",
    "generated_bert2gpt2 = GeneratedBert2GPT2(bert2gpt2, enc_tokenizer, dec_tokenizer)"
   ]
  },
  {
   "cell_type": "code",
   "execution_count": null,
   "metadata": {},
   "outputs": [],
   "source": [
    "# dls = dss.dataloaders(bs=64)\n",
    "compute_bleu(generated_bert2gpt2, generate_args, dec_tokenizer, dls.valid)"
   ]
  },
  {
   "cell_type": "markdown",
   "metadata": {},
   "source": [
    "## Generate"
   ]
  },
  {
   "cell_type": "code",
   "execution_count": null,
   "metadata": {},
   "outputs": [],
   "source": [
    "src_strs = ['你确定？', \n",
    "            '找到汤姆。', \n",
    "            '帮帮我们吧！',\n",
    "            '坚持。']\n",
    "tgt_strs = [\"Really?\",\n",
    "           \"Get Tom.\",\n",
    "           \"Help us.\",\n",
    "           \"Hold on.\"]"
   ]
  },
  {
   "cell_type": "code",
   "execution_count": null,
   "metadata": {},
   "outputs": [
    {
     "data": {
      "text/plain": [
       "['IIIIIIIIIIIIIIIIII',\n",
       " 'IIIIIIIIIIIIIIIIII',\n",
       " 'IIIIIIIIIIIIIIIIII',\n",
       " 'IIIIIIIIIIIIIIIIII']"
      ]
     },
     "execution_count": null,
     "metadata": {},
     "output_type": "execute_result"
    }
   ],
   "source": [
    "result = generated_bert2gpt2.generate_from_strs(src_strs, generate_args, device='cuda:0')\n",
    "result"
   ]
  },
  {
   "cell_type": "code",
   "execution_count": null,
   "metadata": {},
   "outputs": [],
   "source": [
    "src_strs = ['我很高興再次見到你。', \n",
    "            '我有點累。', \n",
    "            '我不記得寄過信了。',\n",
    "            '它是我兄弟的。']\n",
    "tgt_strs = [\"I'm very glad to see you again.\",\n",
    "           \"I'm a little tired.\",\n",
    "           \"I don't remember mailing the letter.\",\n",
    "           \"It's my brother's.\"]"
   ]
  },
  {
   "cell_type": "code",
   "execution_count": null,
   "metadata": {},
   "outputs": [
    {
     "data": {
      "text/plain": [
       "[\"'t't't't't't't't't't't't't't't't't't\",\n",
       " \"'t't't't't't't't't't't't't't't't't't\",\n",
       " \"'t't't't't't't't't't't't't't't't't't\",\n",
       " \"'t't't't't't't't't't't't't't't't't't\"]"
      ]
     },
     "execution_count": null,
     "metadata": {},
     "output_type": "execute_result"
    }
   ],
   "source": [
    "result = generated_bert2gpt2.generate_from_strs(src_strs, generate_args, device='cuda:0')\n",
    "result"
   ]
  },
  {
   "cell_type": "code",
   "execution_count": null,
   "metadata": {},
   "outputs": [],
   "source": []
  }
 ],
 "metadata": {
  "kernelspec": {
   "display_name": "Python 3",
   "language": "python",
   "name": "python3"
  }
 },
 "nbformat": 4,
 "nbformat_minor": 4
}
