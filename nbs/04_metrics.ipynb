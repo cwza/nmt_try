{
 "cells": [
  {
   "cell_type": "code",
   "execution_count": null,
   "metadata": {},
   "outputs": [],
   "source": [
    "# export\n",
    "from nltk.translate.bleu_score import corpus_bleu\n",
    "from fastai2.basics import *\n",
    "from transformers import PreTrainedTokenizer\n",
    "\n",
    "from fastai_transformers_utils.generated_lm import GenerateArgs"
   ]
  },
  {
   "cell_type": "code",
   "execution_count": null,
   "metadata": {},
   "outputs": [],
   "source": [
    "# default_exp metrics"
   ]
  },
  {
   "cell_type": "markdown",
   "metadata": {},
   "source": [
    "# Metrics\n",
    "> Bleu score"
   ]
  },
  {
   "cell_type": "markdown",
   "metadata": {},
   "source": [
    "## bleu"
   ]
  },
  {
   "cell_type": "code",
   "execution_count": null,
   "metadata": {},
   "outputs": [],
   "source": [
    "# export\n",
    "def compute_bleu(generated_seq2seq, generate_args: GenerateArgs, dec_tokenizer: PreTrainedTokenizer, val_dl):\n",
    "    '''\n",
    "        generated_seq2seq: seq2seq model with function generate_from_ids\n",
    "        val_dl: (src_inp_ids, tgt_inp_ids, _)\n",
    "            src_inp_ids: (bs, enc_seq_len), tgt_inp_ids: (bs, dec_seq_len)\n",
    "    '''\n",
    "    pred_toks = [] # [['', ''], ['', '', '']]\n",
    "    tgt_toks = [] # [[['', '']], [['', '', '']]]\n",
    "    \n",
    "    for src_inp_ids, tgt_inp_ids, _ in progress_bar(val_dl):\n",
    "        pred_ids = generated_seq2seq.generate_from_ids(src_inp_ids, generate_args) # (bs, max_len)\n",
    "        for pred_id in pred_ids:\n",
    "            pred_tok = dec_tokenizer.convert_ids_to_tokens(pred_id, skip_special_tokens=True)\n",
    "            pred_toks.append(pred_tok)\n",
    "        for tgt_id in tgt_inp_ids:\n",
    "            tgt_tok = dec_tokenizer.convert_ids_to_tokens(tgt_id, skip_special_tokens=True)\n",
    "            tgt_toks.append([tgt_tok])\n",
    "    return corpus_bleu(tgt_toks, pred_toks)"
   ]
  },
  {
   "cell_type": "markdown",
   "metadata": {},
   "source": [
    "## Export -"
   ]
  },
  {
   "cell_type": "code",
   "execution_count": null,
   "metadata": {},
   "outputs": [
    {
     "name": "stdout",
     "output_type": "stream",
     "text": [
      "Converted 02_data.tatoeba.ipynb.\n",
      "Converted 03a_models.core.ipynb.\n",
      "Converted 03b_models.tran2tran.ipynb.\n",
      "Converted 03c_models.gru2gru.ipynb.\n",
      "Converted 04_metrics.ipynb.\n",
      "Converted index.ipynb.\n"
     ]
    }
   ],
   "source": [
    "# hide\n",
    "from nbdev.export import notebook2script\n",
    "notebook2script()"
   ]
  },
  {
   "cell_type": "code",
   "execution_count": null,
   "metadata": {},
   "outputs": [],
   "source": []
  }
 ],
 "metadata": {
  "kernelspec": {
   "display_name": "Python 3",
   "language": "python",
   "name": "python3"
  }
 },
 "nbformat": 4,
 "nbformat_minor": 4
}
