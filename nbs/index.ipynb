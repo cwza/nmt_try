{
 "cells": [
  {
   "cell_type": "markdown",
   "metadata": {},
   "source": [
    "# nmt_try\n",
    "\n",
    "> My experience of nmt"
   ]
  },
  {
   "cell_type": "markdown",
   "metadata": {},
   "source": [
    "## Editable Install"
   ]
  },
  {
   "cell_type": "markdown",
   "metadata": {},
   "source": [
    "``` sh\n",
    "git clone this repository\n",
    "make install\n",
    "```"
   ]
  },
  {
   "cell_type": "markdown",
   "metadata": {},
   "source": [
    "## Develop"
   ]
  },
  {
   "cell_type": "markdown",
   "metadata": {},
   "source": [
    "1. Modify notebooks in nbs folder (Write unit tests in the same notebook and create new notebook to write integration test)\n",
    "2. `nbdev_build_lib` to update python files\n",
    "3. `make test` to run unit test\n",
    "4. `make test-slow` to run integration test\n",
    "5. `make build-all` to run build-lib, build-docs, clean-nbs\n",
    "6. `git add commit and push`"
   ]
  },
  {
   "cell_type": "code",
   "execution_count": null,
   "metadata": {},
   "outputs": [],
   "source": []
  }
 ],
 "metadata": {
  "kernelspec": {
   "display_name": "Python 3",
   "language": "python",
   "name": "python3"
  }
 },
 "nbformat": 4,
 "nbformat_minor": 2
}
